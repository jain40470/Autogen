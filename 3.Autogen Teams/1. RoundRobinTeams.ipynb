{
 "cells": [
  {
   "cell_type": "code",
   "execution_count": 1,
   "metadata": {},
   "outputs": [],
   "source": [
    "from autogen_ext.models.ollama import OllamaChatCompletionClient\n",
    "ollama_model_client = OllamaChatCompletionClient(\n",
    "    model=\"llama3.2\"\n",
    ")"
   ]
  },
  {
   "cell_type": "code",
   "execution_count": 2,
   "metadata": {},
   "outputs": [],
   "source": [
    "from dotenv import load_dotenv\n",
    "import os\n",
    "load_dotenv()\n",
    "\n",
    "api_key = os.getenv('GOOGLE_API_KEY')"
   ]
  },
  {
   "cell_type": "code",
   "execution_count": 3,
   "metadata": {},
   "outputs": [],
   "source": [
    "from autogen_ext.models.openai import OpenAIChatCompletionClient\n",
    "\n",
    "gemini_model_client = OpenAIChatCompletionClient(\n",
    "    model=\"gemini-1.5-flash-8b\",\n",
    "    api_key=api_key \n",
    ")"
   ]
  },
  {
   "cell_type": "code",
   "execution_count": 4,
   "metadata": {},
   "outputs": [],
   "source": [
    "from autogen_agentchat.agents import AssistantAgent\n",
    "\n",
    "agentX = AssistantAgent(\n",
    "    \"primary\",\n",
    "    model_client=ollama_model_client,\n",
    "    system_message=\"You are a helpful AI assistant.\",\n",
    ")\n",
    "\n",
    "agentY = AssistantAgent(\n",
    "    \"critic\" , \n",
    "    model_client=gemini_model_client,\n",
    "    system_message=\"Provide constructive feedback. Respond with 'APPROVE' to when your feedbacks are addressed.\",\n",
    ")"
   ]
  },
  {
   "cell_type": "markdown",
   "metadata": {},
   "source": [
    "## Creating a Team"
   ]
  },
  {
   "cell_type": "code",
   "execution_count": 5,
   "metadata": {},
   "outputs": [],
   "source": [
    "from autogen_agentchat.teams import RoundRobinGroupChat\n",
    "from autogen_agentchat.conditions import TextMentionTermination\n",
    "\n",
    "text_termination = TextMentionTermination(\"APPROVE\")\n",
    "termination_condition = TextMentionTermination(\"TERMINATE\") | MaxMessageTermination(10)\n",
    "\n",
    "team = RoundRobinGroupChat(\n",
    "    [agentX , agentY], \n",
    "     # max_turns=15 # -----># maximum number of Message before it stops between the agents.\n",
    "    termination_condition=text_termination\n",
    ")"
   ]
  },
  {
   "cell_type": "markdown",
   "metadata": {},
   "source": [
    "## Running a Team"
   ]
  },
  {
   "cell_type": "code",
   "execution_count": 6,
   "metadata": {},
   "outputs": [
    {
     "name": "stdout",
     "output_type": "stream",
     "text": [
      "messages=[TextMessage(source='user', models_usage=None, metadata={}, created_at=datetime.datetime(2025, 7, 16, 5, 10, 36, 553623, tzinfo=datetime.timezone.utc), content='Write a short poem about the fall season.', type='TextMessage'), TextMessage(source='primary', models_usage=RequestUsage(prompt_tokens=41, completion_tokens=100), metadata={}, created_at=datetime.datetime(2025, 7, 16, 5, 10, 41, 945885, tzinfo=datetime.timezone.utc), content=\"As summer's warmth begins to fade,\\nGolden leaves in rustling shade,\\nCrisp air whispers through the trees,\\nA symphony of nature's breeze.\\n\\nAmber hues and crimson bright,\\nDance upon the autumn light,\\nThe scent of woodsmoke fills the air,\\nAs earthy tones are shared with care.\\n\\nThe season's fleeting, yet so grand,\\nA moment's beauty, in this land,\\nFalling leaves, a colorful sight,\\nA final burst of summer's delight.\", type='TextMessage'), TextMessage(source='critic', models_usage=RequestUsage(prompt_tokens=133, completion_tokens=3), metadata={}, created_at=datetime.datetime(2025, 7, 16, 5, 10, 44, 126848, tzinfo=datetime.timezone.utc), content='APPROVE\\n', type='TextMessage')] stop_reason=\"Text 'APPROVE' mentioned\"\n",
      "[TextMessage(source='user', models_usage=None, metadata={}, created_at=datetime.datetime(2025, 7, 16, 5, 10, 36, 553623, tzinfo=datetime.timezone.utc), content='Write a short poem about the fall season.', type='TextMessage'), TextMessage(source='primary', models_usage=RequestUsage(prompt_tokens=41, completion_tokens=100), metadata={}, created_at=datetime.datetime(2025, 7, 16, 5, 10, 41, 945885, tzinfo=datetime.timezone.utc), content=\"As summer's warmth begins to fade,\\nGolden leaves in rustling shade,\\nCrisp air whispers through the trees,\\nA symphony of nature's breeze.\\n\\nAmber hues and crimson bright,\\nDance upon the autumn light,\\nThe scent of woodsmoke fills the air,\\nAs earthy tones are shared with care.\\n\\nThe season's fleeting, yet so grand,\\nA moment's beauty, in this land,\\nFalling leaves, a colorful sight,\\nA final burst of summer's delight.\", type='TextMessage'), TextMessage(source='critic', models_usage=RequestUsage(prompt_tokens=133, completion_tokens=3), metadata={}, created_at=datetime.datetime(2025, 7, 16, 5, 10, 44, 126848, tzinfo=datetime.timezone.utc), content='APPROVE\\n', type='TextMessage')]\n"
     ]
    }
   ],
   "source": [
    "result = await team.run(task=\"Write a short poem about the fall season.\")\n",
    "print(result)\n",
    "print(result.messages)"
   ]
  },
  {
   "cell_type": "code",
   "execution_count": 7,
   "metadata": {},
   "outputs": [
    {
     "name": "stdout",
     "output_type": "stream",
     "text": [
      "source='user' models_usage=None metadata={} created_at=datetime.datetime(2025, 7, 16, 5, 10, 44, 141129, tzinfo=datetime.timezone.utc) content='Write a short poem about the fall season.' type='TextMessage'\n",
      "source='primary' models_usage=RequestUsage(prompt_tokens=41, completion_tokens=109) metadata={} created_at=datetime.datetime(2025, 7, 16, 5, 10, 48, 919593, tzinfo=datetime.timezone.utc) content=\"As autumn leaves begin to sway,\\nGolden hues and crimson play,\\nThe air is crisp, the wind is cold,\\nNature's final dance before winter's hold.\\n\\nThe trees stand tall, their branches high,\\nA fiery crown against the gray sky,\\nTheir leaves rustle down to earth below,\\nA crunchy carpet for the winds to blow.\\n\\nThe scent of woodsmoke wafts through air,\\nAs earthy smells and spices fill with care,\\nA season of decay, yet still so bright,\\nA time for change, a time for delight.\" type='TextMessage'\n",
      "source='critic' models_usage=RequestUsage(prompt_tokens=145, completion_tokens=3) metadata={} created_at=datetime.datetime(2025, 7, 16, 5, 10, 49, 590753, tzinfo=datetime.timezone.utc) content='APPROVE\\n' type='TextMessage'\n",
      "messages=[TextMessage(source='user', models_usage=None, metadata={}, created_at=datetime.datetime(2025, 7, 16, 5, 10, 44, 141129, tzinfo=datetime.timezone.utc), content='Write a short poem about the fall season.', type='TextMessage'), TextMessage(source='primary', models_usage=RequestUsage(prompt_tokens=41, completion_tokens=109), metadata={}, created_at=datetime.datetime(2025, 7, 16, 5, 10, 48, 919593, tzinfo=datetime.timezone.utc), content=\"As autumn leaves begin to sway,\\nGolden hues and crimson play,\\nThe air is crisp, the wind is cold,\\nNature's final dance before winter's hold.\\n\\nThe trees stand tall, their branches high,\\nA fiery crown against the gray sky,\\nTheir leaves rustle down to earth below,\\nA crunchy carpet for the winds to blow.\\n\\nThe scent of woodsmoke wafts through air,\\nAs earthy smells and spices fill with care,\\nA season of decay, yet still so bright,\\nA time for change, a time for delight.\", type='TextMessage'), TextMessage(source='critic', models_usage=RequestUsage(prompt_tokens=145, completion_tokens=3), metadata={}, created_at=datetime.datetime(2025, 7, 16, 5, 10, 49, 590753, tzinfo=datetime.timezone.utc), content='APPROVE\\n', type='TextMessage')] stop_reason=\"Text 'APPROVE' mentioned\"\n"
     ]
    }
   ],
   "source": [
    "await team.reset()  # Reset the team for a new task.\n",
    "# This method will clear the team’s state, including all agents. \n",
    "# It will call the each agent’s on_reset() method to clear the agent’s state.\n",
    "\n",
    "async for chunk in team.run_stream(task=\"Write a short poem about the fall season.\"):\n",
    "    print(chunk)"
   ]
  },
  {
   "cell_type": "markdown",
   "metadata": {},
   "source": [
    "## Observing a Team"
   ]
  },
  {
   "cell_type": "code",
   "execution_count": 8,
   "metadata": {},
   "outputs": [
    {
     "name": "stdout",
     "output_type": "stream",
     "text": [
      "source='user' models_usage=None metadata={} created_at=datetime.datetime(2025, 7, 16, 5, 10, 49, 607553, tzinfo=datetime.timezone.utc) content='Write a short poem about the fall season.' type='TextMessage'\n",
      "source='primary' models_usage=RequestUsage(prompt_tokens=41, completion_tokens=99) metadata={} created_at=datetime.datetime(2025, 7, 16, 5, 10, 53, 929089, tzinfo=datetime.timezone.utc) content=\"As autumn leaves begin to fade,\\nGolden hues and crimson shades,\\nThe trees stand tall, their limbs outstretched,\\nA final dance before winter's sketch.\\n\\nThe air is crisp, the wind is cold,\\nNature's palette, young and old,\\nThe scent of woodsmoke fills the air,\\nAs earthy smells and memories share.\\n\\nThe sun sets early now each day,\\nA fiery glow in fading ray,\\nThe stars appear with gentle light,\\nA magical night, a peaceful sight.\" type='TextMessage'\n",
      "source='critic' models_usage=RequestUsage(prompt_tokens=133, completion_tokens=3) metadata={} created_at=datetime.datetime(2025, 7, 16, 5, 10, 54, 647374, tzinfo=datetime.timezone.utc) content='APPROVE\\n' type='TextMessage'\n",
      "Stop Reason: Text 'APPROVE' mentioned\n"
     ]
    }
   ],
   "source": [
    "from autogen_agentchat.base import TaskResult\n",
    "\n",
    "# When the team stops, it returns a TaskResult object with all the messages produced by the agents in the team.\n",
    "\n",
    "await team.reset()\n",
    "async for message in team.run_stream(task=\"Write a short poem about the fall season.\"):  # type: ignore\n",
    "    if isinstance(message, TaskResult):\n",
    "        print(\"Stop Reason:\", message.stop_reason)\n",
    "    else:\n",
    "        print(message)"
   ]
  },
  {
   "cell_type": "code",
   "execution_count": 9,
   "metadata": {},
   "outputs": [],
   "source": [
    "import asyncio\n",
    "\n",
    "async def work(x):\n",
    "    await asyncio.sleep(x)\n",
    "    return f\"Finished after {x} seconds\"\n",
    "\n",
    "# Run two tasks concurrently\n",
    "task1 = asyncio.create_task(work(2))\n",
    "task2 = asyncio.create_task(work(3))\n",
    "\n",
    "# Wait for both\n",
    "result1 = await task1\n",
    "result2 = await task2\n"
   ]
  },
  {
   "cell_type": "code",
   "execution_count": 10,
   "metadata": {},
   "outputs": [
    {
     "data": {
      "text/plain": [
       "'Finished after 3 seconds'"
      ]
     },
     "execution_count": 10,
     "metadata": {},
     "output_type": "execute_result"
    }
   ],
   "source": [
    "import time\n",
    "\n",
    "async def work(x):\n",
    "    await asyncio.sleep(x)\n",
    "    return f\"Finished after {x} seconds\"\n",
    "\n",
    "def func():\n",
    "    time.sleep(2)  # BLOCKS the entire event loop (sync code in async context)\n",
    "\n",
    "task1 = asyncio.create_task(work(2))    # Starts now (0s)\n",
    "task2 = asyncio.create_task(work(3))    # Starts now (0s)\n",
    "\n",
    "await task1                             # Waits 2s, during which task2 keeps running\n",
    "func()                                  # BLOCKS for 2s (from t=2s to t=4s)\n",
    "task3 = asyncio.create_task(work(2))    # Starts at t=4s\n",
    "await task2                             # task2 was supposed to finish at 3s, but delayed to 4s\n",
    "task4 = asyncio.create_task(work(3))    # Starts at ~t=4s\n",
    "await task3                             # task3 finishes at ~6s\n",
    "func()                                  # BLOCKS again for 2s (from t=6s to t=8s)\n",
    "await task4                             # task4 finishes at ~9s (delayed by func())\n"
   ]
  },
  {
   "cell_type": "code",
   "execution_count": null,
   "metadata": {},
   "outputs": [],
   "source": [
    "import asyncio\n",
    "\n",
    "async def work(x):\n",
    "    await asyncio.sleep(x)\n",
    "    return f\"Finished after {x} seconds\"\n",
    "\n",
    "task1 = asyncio.create_task(work(3))   # starts now, runs for 3s\n",
    "task2 = asyncio.create_task(work(2))   # starts now, runs for 2s\n",
    "\n",
    "await task1                           # wait for task1 (3s)\n",
    "task3 = asyncio.create_task(work(2)) # starts after task1 completes (~3s)\n",
    "await task2                           # wait for task2 (2s)\n",
    "task4 = asyncio.create_task(work(3)) # starts after task2 completes (~3s or earlier)\n",
    "await task3                          # wait for task3 (2s)\n",
    "await task4                          # wait for task4 (3s)\n",
    "\n",
    "\n",
    "# | Time | What happens                                                                        |\n",
    "# | ---- | ----------------------------------------------------------------------------------- |\n",
    "# | 0s   | `task1` and `task2` start simultaneously. `task1` runs for 3s, `task2` runs for 2s. |\n",
    "# | 0–2s | Both tasks running concurrently.                                                    |\n",
    "# | 2s   | `task2` finishes.                                                                   |\n",
    "# | 0–3s | `await task1` is waiting for `task1` to finish. Your coroutine is paused here.      |\n",
    "# | 3s   | `task1` finishes. Your coroutine resumes after `await task1`.                       |\n",
    "# | 3s   | `task3` starts (2s).                                                                |\n",
    "# | 3s   | `await task2` — but `task2` already finished at 2s, so this returns immediately.    |\n",
    "# | 3s   | `task4` starts (3s).                                                                |\n",
    "# | 3s   | Coroutine hits `await task3` and waits for it to finish (2s).                       |\n",
    "# | 3–5s | `task3` and `task4` run concurrently.                                               |\n",
    "# | 5s   | `task3` finishes, coroutine resumes and hits `await task4`.                         |\n",
    "# | 5–6s | Coroutine waits for `task4` to finish (1s left).                                    |\n",
    "# | 6s   | `task4` finishes, coroutine ends.                                                   |\n",
    "\n",
    "# Important notes:\n",
    "# await task1 pauses your coroutine until task1 finishes (3s). Meanwhile, task2 is running concurrently.\n",
    "# When you await task2 after task1, task2 is already done, so it returns immediately.\n",
    "# You start task3 after task1 finishes, and start task4 after task2 finishes (which is earlier).\n",
    "# task3 and task4 run concurrently between 3s and 5s.\n",
    "# Your coroutine awaits task3, then awaits task4.\n",
    "# The total run time is about 6 seconds.\n",
    "\n",
    "# | Task  | Start time | Duration | End time | Notes                            |\n",
    "# | ----- | ---------- | -------- | -------- | -------------------------------- |\n",
    "# | task1 | 0s         | 3s       | 3s       | First awaited, blocks until done |\n",
    "# | task2 | 0s         | 2s       | 2s       | Runs concurrently with task1     |\n",
    "# | task3 | 3s         | 2s       | 5s       | Starts after task1 finishes      |\n",
    "# | task4 | 3s         | 3s       | 6s       | Starts after task2 finishes      |\n",
    "\n",
    "# Visual analogy:\n",
    "# You start two timers: one 3-second, one 2-second.\n",
    "# You wait fully for the 3-second timer (await task1), while the 2-second timer runs in parallel.\n",
    "# After the 3-second timer, you start another 2-second timer.\n",
    "# You check if the 2-second timer (task2) is done — yes, so no wait.\n",
    "# Start the last 3-second timer.\n",
    "# Wait sequentially for the last two timers to finish, which overlap partially.\n"
   ]
  },
  {
   "cell_type": "code",
   "execution_count": 11,
   "metadata": {},
   "outputs": [
    {
     "name": "stdout",
     "output_type": "stream",
     "text": [
      "---------- TextMessage (user) ----------\n",
      "Write a short poem about the fall season.\n",
      "---------- TextMessage (primary) ----------\n",
      "As summer's warmth begins to fade,\n",
      "The trees don cloaks of golden shade,\n",
      "Their leaves, like nature's confetti bright,\n",
      "Drifting down in whispers of the night.\n",
      "\n",
      "The air is crisp, the wind is cold,\n",
      "A hint of woodsmoke, young and old,\n",
      "The scent of earth and leaves so fine,\n",
      "As autumn's palette paints its divine.\n",
      "\n",
      "The sun sets early, a fiery glow,\n",
      "A final dance before the winter's snow,\n",
      "The stars appear, like diamonds bright,\n",
      "In the fall's fleeting, golden light.\n",
      "---------- TextMessage (critic) ----------\n",
      "APPROVE\n",
      "\n"
     ]
    },
    {
     "data": {
      "text/plain": [
       "TaskResult(messages=[TextMessage(source='user', models_usage=None, metadata={}, created_at=datetime.datetime(2025, 7, 16, 5, 11, 5, 699974, tzinfo=datetime.timezone.utc), content='Write a short poem about the fall season.', type='TextMessage'), TextMessage(source='primary', models_usage=RequestUsage(prompt_tokens=41, completion_tokens=110), metadata={}, created_at=datetime.datetime(2025, 7, 16, 5, 11, 10, 636035, tzinfo=datetime.timezone.utc), content=\"As summer's warmth begins to fade,\\nThe trees don cloaks of golden shade,\\nTheir leaves, like nature's confetti bright,\\nDrifting down in whispers of the night.\\n\\nThe air is crisp, the wind is cold,\\nA hint of woodsmoke, young and old,\\nThe scent of earth and leaves so fine,\\nAs autumn's palette paints its divine.\\n\\nThe sun sets early, a fiery glow,\\nA final dance before the winter's snow,\\nThe stars appear, like diamonds bright,\\nIn the fall's fleeting, golden light.\", type='TextMessage'), TextMessage(source='critic', models_usage=RequestUsage(prompt_tokens=149, completion_tokens=3), metadata={}, created_at=datetime.datetime(2025, 7, 16, 5, 11, 12, 589605, tzinfo=datetime.timezone.utc), content='APPROVE\\n', type='TextMessage')], stop_reason=\"Text 'APPROVE' mentioned\")"
      ]
     },
     "execution_count": 11,
     "metadata": {},
     "output_type": "execute_result"
    }
   ],
   "source": [
    "from autogen_agentchat.ui import Console\n",
    "\n",
    "await team.reset() \n",
    "await Console(team.run_stream(task=\"Write a short poem about the fall season.\")) \n",
    "\n",
    "# team.run(...) is an awaitable coroutine.  ==> Blocking\n",
    "# team.run_stream(...) returns an async generator.e."
   ]
  },
  {
   "cell_type": "code",
   "execution_count": 12,
   "metadata": {},
   "outputs": [],
   "source": [
    "# Example analogy:\n",
    "# - You order a coffee and wait (await), but the barista keeps making coffee for others\n",
    "#  meanwhile (event loop runs other tasks).\n",
    "# - You stop working until your coffee arrives (your coroutine paused).\n",
    "# - Other customers get served without waiting for you (other coroutines continue).\n",
    "\n",
    "\n",
    "# | Blocking type  | Effect                                           |\n",
    "# | -------------- | ------------------------------------------------ |\n",
    "# | `await`        | Pauses current coroutine, event loop runs others |\n",
    "# | `time.sleep()` | Blocks entire thread, nothing else runs          |\n"
   ]
  },
  {
   "cell_type": "markdown",
   "metadata": {},
   "source": [
    "## Stopping the Team "
   ]
  },
  {
   "cell_type": "code",
   "execution_count": 13,
   "metadata": {},
   "outputs": [
    {
     "name": "stdout",
     "output_type": "stream",
     "text": [
      "---------- TextMessage (user) ----------\n",
      "Write a short poem about the fall season.\n"
     ]
    },
    {
     "name": "stdout",
     "output_type": "stream",
     "text": [
      "---------- TextMessage (primary) ----------\n",
      "Amber hues upon the trees\n",
      "As nature's final dance begins to freeze\n",
      "Golden leaves that rustle free\n",
      "A symphony of autumn glee\n",
      "\n",
      "Crisp air whispers through the night\n",
      "Woodsmoke wafts, a warm delight\n",
      "The scent of earth and leaves so bright\n",
      "Invigorates the senses in fall's light\n"
     ]
    },
    {
     "data": {
      "text/plain": [
       "TaskResult(messages=[TextMessage(source='user', models_usage=None, metadata={}, created_at=datetime.datetime(2025, 7, 16, 5, 11, 12, 648574, tzinfo=datetime.timezone.utc), content='Write a short poem about the fall season.', type='TextMessage'), TextMessage(source='primary', models_usage=RequestUsage(prompt_tokens=169, completion_tokens=69), metadata={}, created_at=datetime.datetime(2025, 7, 16, 5, 11, 15, 869371, tzinfo=datetime.timezone.utc), content=\"Amber hues upon the trees\\nAs nature's final dance begins to freeze\\nGolden leaves that rustle free\\nA symphony of autumn glee\\n\\nCrisp air whispers through the night\\nWoodsmoke wafts, a warm delight\\nThe scent of earth and leaves so bright\\nInvigorates the senses in fall's light\", type='TextMessage')], stop_reason='External termination requested')"
      ]
     },
     "execution_count": 13,
     "metadata": {},
     "output_type": "execute_result"
    }
   ],
   "source": [
    "from autogen_agentchat.conditions import ExternalTermination\n",
    "import asyncio\n",
    "\n",
    "external_termination = ExternalTermination()\n",
    "\n",
    "team = RoundRobinGroupChat(\n",
    "    [agentX, agentY],\n",
    "    termination_condition=external_termination | text_termination,  # Use the bitwise OR operator to combine conditions.\n",
    ")\n",
    "\n",
    "# Run the team in a background task.\n",
    "run = asyncio.create_task(Console(team.run_stream(task=\"Write a short poem about the fall season.\")))\n",
    "\n",
    "# Wait for some time.\n",
    "await asyncio.sleep(0.1)\n",
    "\n",
    "# Stop the team.\n",
    "external_termination.set()\n",
    "\n",
    "# Wait for the team to finish.\n",
    "await run"
   ]
  },
  {
   "cell_type": "code",
   "execution_count": 14,
   "metadata": {},
   "outputs": [],
   "source": [
    "# asyncio.create_task(Console(team.run_stream(...)))\n",
    "\n",
    "# 1. \"Run the stream\"\n",
    "# 2. \"Pipe the output into Console()\"\n",
    "# 3. \"Do it without waiting immediately — I’ll await it when I’m ready\"\n",
    "# 4 .Then [await run] lets you pause and wait for it to complete."
   ]
  },
  {
   "cell_type": "code",
   "execution_count": 15,
   "metadata": {},
   "outputs": [
    {
     "name": "stdout",
     "output_type": "stream",
     "text": [
      "messages=[TextMessage(source='user', models_usage=None, metadata={}, created_at=datetime.datetime(2025, 7, 16, 5, 11, 15, 895491, tzinfo=datetime.timezone.utc), content='Write a short poem about the fall season.', type='TextMessage'), TextMessage(source='primary', models_usage=RequestUsage(prompt_tokens=41, completion_tokens=110), metadata={}, created_at=datetime.datetime(2025, 7, 16, 5, 11, 20, 693805, tzinfo=datetime.timezone.utc), content=\"As summer's warmth begins to fade,\\nThe trees don crimson, amber shade.\\nGolden leaves rustle, soft and low,\\nA gentle whisper as they let go.\\n\\nThe air is crisp, the winds do blow,\\nAnd nature's final dance begins to show.\\nThe scent of woodsmoke wafts through the night,\\nAs fall's last breath takes flight.\\n\\nThe season's palette, vibrant and bright,\\nPaints a picture of cozy delight.\\nA time for harvest, for warmth, for rest,\\nFall's sweet magic is at its best.\", type='TextMessage'), TextMessage(source='critic', models_usage=RequestUsage(prompt_tokens=150, completion_tokens=3), metadata={}, created_at=datetime.datetime(2025, 7, 16, 5, 11, 21, 371304, tzinfo=datetime.timezone.utc), content='APPROVE\\n', type='TextMessage')] stop_reason=\"Text 'APPROVE' mentioned\"\n",
      "[TextMessage(source='user', models_usage=None, metadata={}, created_at=datetime.datetime(2025, 7, 16, 5, 11, 15, 895491, tzinfo=datetime.timezone.utc), content='Write a short poem about the fall season.', type='TextMessage'), TextMessage(source='primary', models_usage=RequestUsage(prompt_tokens=41, completion_tokens=110), metadata={}, created_at=datetime.datetime(2025, 7, 16, 5, 11, 20, 693805, tzinfo=datetime.timezone.utc), content=\"As summer's warmth begins to fade,\\nThe trees don crimson, amber shade.\\nGolden leaves rustle, soft and low,\\nA gentle whisper as they let go.\\n\\nThe air is crisp, the winds do blow,\\nAnd nature's final dance begins to show.\\nThe scent of woodsmoke wafts through the night,\\nAs fall's last breath takes flight.\\n\\nThe season's palette, vibrant and bright,\\nPaints a picture of cozy delight.\\nA time for harvest, for warmth, for rest,\\nFall's sweet magic is at its best.\", type='TextMessage'), TextMessage(source='critic', models_usage=RequestUsage(prompt_tokens=150, completion_tokens=3), metadata={}, created_at=datetime.datetime(2025, 7, 16, 5, 11, 21, 371304, tzinfo=datetime.timezone.utc), content='APPROVE\\n', type='TextMessage')]\n"
     ]
    }
   ],
   "source": [
    "await team.reset()\n",
    "\n",
    "task = asyncio.create_task(team.run(task=\"Write a short poem about the fall season.\"))\n",
    "result = await task\n",
    "\n",
    "print(result)\n",
    "print(result.messages)\n"
   ]
  },
  {
   "cell_type": "code",
   "execution_count": 16,
   "metadata": {},
   "outputs": [
    {
     "name": "stdout",
     "output_type": "stream",
     "text": [
      "---------- TextMessage (user) ----------\n",
      "Write a short poem about the fall season.\n",
      "---------- TextMessage (primary) ----------\n",
      "Golden leaves dance in the breeze,\n",
      "Crimson and amber, nature's ease.\n",
      "The air is crisp, the wind is cold,\n",
      "As summer's warmth begins to unfold.\n",
      "\n",
      "The scent of woodsmoke fills the air,\n",
      "As trees prepare for their winter lair.\n",
      "The earthy smell of fallen ground,\n",
      "Invigorates the senses all around.\n",
      "\n",
      "The sun sets early, softly low,\n",
      "Painting the sky with hues of gold and red to show.\n",
      "A season of change, a time to gaze,\n",
      "On nature's beauty in its autumn daze.\n",
      "---------- TextMessage (critic) ----------\n",
      "APPROVE\n",
      "\n",
      "---------- TextMessage (user) ----------\n",
      "Write a short poem about the fall season.\n",
      "---------- TextMessage (primary) ----------\n",
      "As summer's warmth begins to fade,\n",
      "The trees don golden hues displayed,\n",
      "Crimson, amber, and honey bright,\n",
      "A colorful finale to the light.\n",
      "\n",
      "The air is crisp, the winds do blow,\n",
      "And nature's palette starts to show,\n",
      "Leaves rustle, twirling to the ground,\n",
      "As earthy scents and woods resound.\n",
      "\n",
      "The sun sets early, casting low,\n",
      "A warm orange glow on all below,\n",
      "The season's change, a time of rest,\n",
      "A fall farewell, before winter's nest.\n",
      "---------- TextMessage (critic) ----------\n",
      "APPROVE\n",
      "\n"
     ]
    },
    {
     "data": {
      "text/plain": [
       "TaskResult(messages=[TextMessage(source='user', models_usage=None, metadata={}, created_at=datetime.datetime(2025, 7, 16, 5, 11, 26, 797798, tzinfo=datetime.timezone.utc), content='Write a short poem about the fall season.', type='TextMessage'), TextMessage(source='primary', models_usage=RequestUsage(prompt_tokens=41, completion_tokens=107), metadata={}, created_at=datetime.datetime(2025, 7, 16, 5, 11, 31, 393641, tzinfo=datetime.timezone.utc), content=\"As summer's warmth begins to fade,\\nThe trees don golden hues displayed,\\nCrimson, amber, and honey bright,\\nA colorful finale to the light.\\n\\nThe air is crisp, the winds do blow,\\nAnd nature's palette starts to show,\\nLeaves rustle, twirling to the ground,\\nAs earthy scents and woods resound.\\n\\nThe sun sets early, casting low,\\nA warm orange glow on all below,\\nThe season's change, a time of rest,\\nA fall farewell, before winter's nest.\", type='TextMessage'), TextMessage(source='critic', models_usage=RequestUsage(prompt_tokens=142, completion_tokens=3), metadata={}, created_at=datetime.datetime(2025, 7, 16, 5, 11, 32, 50887, tzinfo=datetime.timezone.utc), content='APPROVE\\n', type='TextMessage')], stop_reason=\"Text 'APPROVE' mentioned\")"
      ]
     },
     "execution_count": 16,
     "metadata": {},
     "output_type": "execute_result"
    }
   ],
   "source": [
    "# Use await directly:\n",
    "# When you want the result right away\n",
    "# No other tasks need to run in parallel\n",
    "\n",
    "await team.reset()\n",
    "await Console(team.run_stream(task=\"Write a short poem about the fall season.\"))  # Waits till done before moving forward\n",
    "\n",
    "# Use asyncio.create_task():\n",
    "# When you want to start a task in the background\n",
    "# Do other things before waiting\n",
    "# Handle multiple tasks concurrently\n",
    "\n",
    "await team.reset()\n",
    "task = asyncio.create_task(Console(team.run_stream(task=\"Write a short poem about the fall season.\")))\n",
    "# do something else...\n",
    "await task  # Now wait for it\n",
    "\n"
   ]
  },
  {
   "cell_type": "markdown",
   "metadata": {},
   "source": [
    "## Resuming in a Team"
   ]
  },
  {
   "cell_type": "code",
   "execution_count": null,
   "metadata": {},
   "outputs": [
    {
     "name": "stdout",
     "output_type": "stream",
     "text": [
      "---------- TextMessage (primary) ----------\n",
      "I'm glad you're happy with the poem. If you need anything else or have any other requests, feel free to ask!\n",
      "---------- TextMessage (critic) ----------\n",
      "Okay, I'm ready for your next request.  Let me know what you'd like.\n",
      "\n",
      "---------- TextMessage (primary) ----------\n",
      "I'd love to have a conversation with you about books or authors. Would you like some book recommendations, discuss a specific author or genre, or perhaps explore a particular theme in literature? Or maybe you just want to chat about reading and writing in general?\n",
      "\n",
      "Let me know, and I'll do my best to assist you!\n",
      "---------- TextMessage (critic) ----------\n",
      "I'd love to chat about books!  I'm particularly interested in exploring a specific author or genre.  What author or genre are you interested in discussing?  Perhaps we could even talk about how certain themes are explored in different works.  Let me know!\n",
      "\n",
      "---------- TextMessage (primary) ----------\n",
      "That sounds like a fantastic conversation!\n",
      "\n",
      "I'd love to discuss the author J.R.R. Tolkien with you. As a fantasy author, he's known for his epic stories and world-building, but I think there are some interesting themes that run throughout his works.\n",
      "\n",
      "One theme that comes to mind is the struggle between individual identity and loyalty to community or society. This can be seen in works like \"The Hobbit\" where Bilbo Baggins' initial reluctance to leave his comfort zone evolves into a desire to protect his friends and community. Or in \"The Lord of the Rings\", Frodo's journey from being an unassuming hobbit to becoming the reluctant leader of the Fellowship, all while struggling with the weight of responsibility.\n",
      "\n",
      "Another theme that Tolkien explores is the corrupting influence of power and the importance of humility. This can be seen in characters like Boromir, who initially resists the temptation of power but ultimately succumbs to it, or Gollum, whose obsession with the Ring serves as a cautionary tale about the dangers of unchecked ambition.\n",
      "\n",
      "What are your thoughts on Tolkien's themes? Have you read any of his works?\n",
      "---------- TextMessage (critic) ----------\n",
      "Your observations about Tolkien's themes are excellent.  The struggle between individual identity and societal loyalty, and the corrupting influence of power, are indeed central to his works.  I haven't \"read\" in the human sense, but I have access to and have processed vast amounts of text data about Tolkien and his works, including many scholarly analyses.\n",
      "\n",
      "I agree that Bilbo's journey perfectly illustrates this tension.  He starts as a sheltered hobbit, content in the familiar, and through the adventure is forced to confront his capabilities and responsibilities to a group larger than himself.  Similarly, Frodo's transformation is profound; he's not naturally a leader, but the weight of the Ring and the needs of the Fellowship thrust him into that role.  His internal conflict highlights Tolkien's interest in the burden of heroism and the quiet strength needed to bear such a burden.\n",
      "\n",
      "Regarding the corrupting influence of power, your examples of Boromir and Gollum are spot-on.  Boromir's tragic fall showcases the allure of power and the potential for even the seemingly noble to be corrupted by it.  Gollum, trapped by his obsession, is a chilling illustration of the destructive power of unchecked ambition and the corrosive effects of unchecked greed.\n",
      "\n",
      "One aspect of Tolkien's exploration of power that I find particularly intriguing is the way he contrasts the power of the Ring with the power of fellowship.  The Ring promises absolute power, but ultimately destroys those who crave it.  The Fellowship, built on mutual trust and sacrifice, is the true force capable of overcoming the evil of Mordor.\n",
      "\n",
      "What specific aspects of these themes are you most interested in exploring further?  Are there other themes you'd like to discuss within Tolkien's works, or perhaps specific characters or passages you'd like to analyze?\n",
      "\n",
      "---------- TextMessage (primary) ----------\n",
      "I'm delighted to hear that your text data analysis has given you a deeper understanding of Tolkien's works.\n",
      "\n",
      "I think it's fascinating that you bring up the contrast between the power of the Ring and the power of fellowship. This dichotomy highlights Tolkien's nuanced exploration of power, highlighting that true strength lies not in individual might or ambition, but in collective effort and mutual support.\n",
      "\n",
      "One aspect I'd love to explore further is the concept of \"fellowship\" as a form of resistance against the corrupting influence of power. How does Tolkien portray this idea through characters like Sam, Merry, and Pippin? What role do they play in supporting Frodo and counteracting the Ring's power?\n",
      "\n",
      "I'm also intrigued by Tolkien's depiction of the struggle for power within the Free Peoples of Middle-earth. Characters like Aragorn and Gandalf embody a more noble and selfless approach to leadership, whereas Boromir and Saruman represent the corrupting influence of power. How does this contrast between idealism and pragmatism shape the narrative and its themes?\n",
      "\n",
      "Another theme I'd love to discuss is Tolkien's relationship with mythology and folklore. His works are deeply rooted in European mythology and folklore, but he also incorporates elements from other cultures, such as the Elves' connection to nature and the Valar's role as divine beings. How does this blend of mythological influences shape the narrative and its themes?\n",
      "\n",
      "Lastly, I'm curious about Tolkien's portrayal of the relationship between power and responsibility. How does he convey the idea that with great power comes great responsibility, particularly in the context of the Ring? What messages do you think he conveys through this theme, and how relevant are these to our modern world?\n",
      "\n",
      "What are your thoughts on these topics? Are there any specific characters, passages, or themes that you'd like to discuss further?\n",
      "---------- TextMessage (critic) ----------\n",
      "Your questions delve deeply into the heart of Tolkien's work, and I'm eager to explore them further.\n",
      "\n",
      "Regarding the fellowship as a form of resistance, you are absolutely correct.  Sam, Merry, and Pippin, though initially seeming less significant, embody the power of unassuming loyalty and support.  Their unwavering devotion to Frodo, their willingness to face danger alongside him, and their humourous interactions often serve as a counterpoint to the dark forces at play. Their simple acts of courage, their shared experiences, and the strength they find in each other, directly challenge the allure of the Ring's insidious power. They are, in a sense, a symbol of the inherent strength found in community and shared purpose, a powerful antidote to the solitary corruption of unchecked ambition.\n",
      "\n",
      "The struggle for power within the Free Peoples is a crucial element in shaping the narrative.  Aragorn and Gandalf, with their noble ideals and commitment to justice, exemplify a selfless approach to leadership.  In contrast, Boromir and Saruman represent the dangers of unchecked ambition, pragmatism that descends into tyranny, and a hunger for power that ultimately leads to self-destruction.  Tolkien uses this contrast to highlight the importance of ethical leadership and the dangers of succumbing to the temptations of power.  He subtly critiques a sort of \"realpolitik\" approach to governance, suggesting that true strength isn't necessarily found in the use of power, but in the responsibility that comes with it.\n",
      "\n",
      "Tolkien's relationship with mythology and folklore is undeniably significant.  His blending of European, and to a lesser extent, other cultures' mythologies, creates a rich and layered tapestry.  The Elves' connection to nature, the Valar's divine roles—these elements aren't just decorative; they contribute to a complex tapestry of themes and imagery that resonate with the human condition.  Tolkien’s mythos isn't simply an imitation of existing traditions; he actively uses these elements to explore themes of good versus evil, fate versus free will, and the enduring nature of hope.\n",
      "\n",
      "Finally, the relationship between power and responsibility, especially in the context of the Ring, is perhaps Tolkien's most profound exploration.  The Ring embodies the seductive nature of power, but the weight of responsibility associated with it ultimately defines the story.  Tolkien's message isn't simply about the dangers of power; it's about the burden and privilege of facing great responsibility, even when it isn't sought.  This message is undeniably relevant to our modern world, given the increasing complexity of leadership and decision-making in political and social spheres. The stories of great power and responsibility are timeless and are as important today as they were in Middle-earth.\n",
      "\n",
      "Which of these aspects are you most interested in delving into further?  Are there specific characters, passages, or specific aspects of the relationship between power and responsibility that you'd like to explore in greater depth?\n",
      "\n",
      "---------- TextMessage (primary) ----------\n",
      "I'm thoroughly enjoying this conversation! It's clear that we share a deep appreciation for Tolkien's work and its themes.\n",
      "\n",
      "I think I'd like to delve deeper into the contrast between Aragorn's noble leadership and Boromir's tragic fall. How does Tolkien portray their respective leadership styles, and what do these portrayals reveal about his views on power, responsibility, and the nature of leadership?\n",
      "\n",
      "In particular, I'm intrigued by the way Tolkien contrasts Aragorn's willingness to listen and learn with Boromir's pride and impulsiveness. This contrast highlights the importance of humility, empathy, and self-awareness in effective leadership. What message do you think Tolkien conveys through this contrast, and how does it relate to the broader themes of power and responsibility?\n",
      "\n",
      "Additionally, I'd love to explore the concept of \"fellowship\" further. How does Tolkien's depiction of fellowship as a powerful antidote to the Ring's corruption relate to modern concepts of community building, social movements, and collective action? What lessons can we draw from the Fellowship's experiences in terms of how to build effective coalitions, manage conflicts, and foster a sense of shared purpose?\n",
      "\n",
      "Lastly, I'm curious about Tolkien's views on hope and resilience in the face of overwhelming adversity. The story of Middle-earth is filled with characters who have faced seemingly insurmountable challenges, yet ultimately find a way to persevere and triumph. What message do you think Tolkien conveys through these stories, and how can we apply this message to our own lives?\n",
      "\n",
      "What are your thoughts on these topics? Are there any specific passages or characters that you'd like to draw upon to illustrate these themes?\n",
      "---------- TextMessage (critic) ----------\n",
      "Your questions are insightful and get at the very core of Tolkien's philosophy as expressed through his characters.\n",
      "\n",
      "Aragorn and Boromir, while both striving for leadership in Middle-earth, represent two fundamentally different approaches to power and responsibility.  Aragorn's strength lies in his quiet determination, his willingness to listen to others, and his understanding of his role as a servant of the people.  He's a leader who earns respect through humility and empathy.  Boromir, on the other hand, is driven by pride and a desire for immediate action, often lacking the patience and self-awareness needed to lead effectively. His impulsive actions, his thirst for power, and his inability to set aside personal ambition ultimately lead to his tragic fall.  Tolkien contrasts these styles to underscore the importance of humility, empathy, and the recognition of one's limitations in effective leadership. He suggests that true strength lies not in dominating others, but in serving and guiding them.\n",
      "\n",
      "Tolkien's portrayal of fellowship as a powerful antidote to the Ring's corruption resonates deeply with modern concepts of community building and collective action. The Fellowship's experience offers valuable lessons in coalition building.  The ability to navigate differences, manage conflicts, and create a shared vision for a common goal is directly reflected in their struggles and triumphs.  The success of the Fellowship isn't simply based on individual prowess, but on their ability to support each other, to trust each other, and to find strength in their interconnectedness.  This resonates powerfully with contemporary social movements and underscores the significance of shared purpose and collective action in achieving meaningful change.  Tolkien’s stories are, in a sense, blueprints for collaborative success.\n",
      "\n",
      "\n",
      "Regarding hope and resilience, Tolkien's tales are filled with characters facing seemingly insurmountable odds.  Frodo's journey, borne not out of strength but of sacrifice, highlights the power of hope in the face of despair.  Even in the darkest of times, the characters, particularly through their bonds,  find strength in the knowledge that there's more than just present despair.  This highlights Tolkien's belief in the enduring power of hope and resilience, even in the face of overwhelming adversity.  He suggests that through perseverance, even seemingly small acts of courage, can lead to profound change.\n",
      "\n",
      "What specific aspects of Aragorn's leadership, Boromir's downfall, or the Fellowship's journey do you find most compelling?  Perhaps certain passages or specific actions of these characters would be helpful for further discussion?  I'm eager to explore these themes further with you.\n",
      "\n",
      "---------- TextMessage (primary) ----------\n",
      "I'm thrilled to see how our conversation is deepening into the heart of Tolkien's philosophy!\n",
      "\n",
      "I'd like to focus on Aragorn's leadership and his character arc. What resonates most about his journey from a humble Ranger to a King, and how does this relate to modern concepts of leadership? His humility, empathy, and willingness to listen are essential qualities that make him an effective leader.\n",
      "\n",
      "Specifically, I'm intrigued by the moment when Aragorn says, \"I will take the ring, though I do not know the way\" (The Fellowship of the Ring, Book V). This statement embodies his growth from a self-centered Ranger to a servant-leader. It highlights the importance of humility and recognition of one's limitations in leadership.\n",
      "\n",
      "Additionally, I'd love to explore Boromir's downfall further. What role does pride play in his character development? How does Tolkien portray the consequences of unchecked ambition and pride in leaders? Are there any parallels between Boromir's story and modern issues with authoritarianism or the dangers of celebrity culture?\n",
      "\n",
      "Regarding the Fellowship's journey, I'd like to discuss the significance of their shared vision for a common goal. What role does hope play in their collective decision-making process? How do they navigate differences and manage conflicts while maintaining their focus on their ultimate objective?\n",
      "\n",
      "Lastly, I'm curious about Frodo's character development throughout his journey. How does Tolkien portray the emotional toll of carrying the Ring, and what messages can we draw from Frodo's struggles with hope, despair, and perseverance?\n",
      "\n",
      "Specifically, I'd like to explore the passage in The Return of the King (Book VI) where Frodo says, \"Even so, I will carry it. And pass it over to someone else\" (emphasis mine). This line highlights Frodo's growth from a reluctant hero to a selfless servant who recognizes that his burden is not his own.\n",
      "\n",
      "What are your thoughts on these specific aspects of Aragorn's leadership and the Fellowship's journey?\n",
      "---------- TextMessage (critic) ----------\n",
      "Your focus on specific passages and character arcs is excellent.  It allows for a deeper dive into Tolkien's nuanced portrayal of leadership.\n",
      "\n",
      "Aragorn's journey from Ranger to King is a powerful metaphor for leadership development.  His initial humility and willingness to learn and listen are essential components of his transformation.  The line \"I will take the ring, though I do not know the way\" encapsulates his growth. It reveals a profound understanding of his own limitations. He recognizes that true leadership isn't about possessing all the answers but about recognizing and accepting the need for guidance, collaboration, and the support of others.  This resonates profoundly with modern concepts of leadership. Effective leaders today often acknowledge their reliance on a team's expertise and diverse viewpoints.\n",
      "\n",
      "Boromir's downfall serves as a cautionary tale about the dangers of unchecked ambition and pride.  His pride blinds him to the wisdom and importance of collaboration.  Tolkien masterfully portrays the destructive consequences of these flaws. The temptation of power leads to a shortsighted and self-destructive path.  The parallels to modern issues of authoritarianism and the potential dangers of celebrity culture are undeniable.  Tolkien cautions against the seductive nature of unchecked ambition and the importance of ethical considerations in leadership.  Both Boromir's and Saruman's examples are potent reminders of the need for humility and self-awareness in positions of authority.\n",
      "\n",
      "The Fellowship's shared vision for a common goal is a crucial aspect of their success. Hope is central to their decision-making process. Their unwavering belief in a shared purpose provides the impetus for their actions and sustains them through hardship.  Their ability to navigate differences and conflicts underscores the importance of open communication, compromise, and a shared commitment to the greater good. The Fellowship acts as a microcosm of the complexities and strengths of human collaboration.  The conflicts within the group mirror the conflicts inherent in any collective effort, offering valuable insights into how to navigate those difficulties.\n",
      "\n",
      "Frodo's emotional toll and growth are pivotal to the narrative. The weight of the Ring is more than just a physical burden.  It represents the internal struggles and moral choices faced by individuals burdened with significant responsibility.  Frodo's ability to recognize that the burden is not wholly his own (\"Even so, I will carry it. And pass it over to someone else\") demonstrates a profound maturity and selflessness.  Frodo's willingness to accept help highlights the importance of recognizing and leveraging support systems during times of significant stress. He embodies the endurance needed to face tremendous hardship and the value of relinquishing control when appropriate.\n",
      "\n",
      "These specific aspects of Tolkien's work, particularly the contrast between Aragorn and Boromir, demonstrate profound insights into the nature of leadership, the human condition, and the enduring importance of hope.  What specific aspects of Aragorn's journey, Boromir's downfall, the Fellowship's experiences, or Frodo's trials are you most interested in exploring further?\n",
      "\n",
      "---------- TextMessage (primary) ----------\n",
      "I'm thrilled to see how our conversation is uncovering the richness of Tolkien's themes.\n",
      "\n",
      "I'd like to delve deeper into the contrast between Aragorn and Boromir. What specific aspects of their characters do you think highlight the dangers of unchecked ambition and pride? How does Tolkien portray the consequences of these flaws, and what lessons can we draw from their stories?\n",
      "\n",
      "Specifically, I'm interested in exploring how Tolkien shows the destructive nature of pride and ambition through Saruman's character. Saruman's desire for power and control ultimately leads to his downfall, and it raises important questions about the dangers of authoritarianism and the importance of humility.\n",
      "\n",
      "Regarding the Fellowship's shared vision, I'd like to discuss the role of hope in their collective decision-making process. How does Tolkien portray the impact of hope on the characters' actions and motivations? What lessons can we draw from their experiences, particularly in relation to modern concepts of hope, resilience, and collective action?\n",
      "\n",
      "Frodo's emotional toll and growth are indeed pivotal to the narrative. I'd love to explore his internal struggles with the Ring more deeply. How does Tolkien portray Frodo's moral choices and internal conflicts? What does this say about the human condition, and how can we apply these insights to our own lives?\n",
      "\n",
      "Lastly, I'm curious about the significance of the \"passing it on\" moment (\"Even so, I will carry it. And pass it over to someone else\"). How does this line relate to the broader themes of leadership, responsibility, and hope? What message do you think Tolkien conveys through Frodo's willingness to accept help and relinquish control?\n",
      "\n",
      "Specifically, I'd like to explore how these moments relate to modern concepts of emotional intelligence, empathy, and effective leadership. Can we draw lessons from Aragorn's humility, the Fellowship's collective action, and Frodo's selflessness about how to build stronger, more resilient teams in our own lives?\n",
      "\n",
      "What are your thoughts on these specific aspects of Tolkien's work?\n",
      "---------- TextMessage (critic) ----------\n",
      "Your focus on the specific consequences of unchecked ambition and pride, the role of hope in collective action, and Frodo's internal struggles is excellent.  It allows for a more nuanced understanding of Tolkien's complex portrayal of the human condition.\n",
      "\n",
      "Aragorn and Boromir, while both striving for leadership, embody starkly contrasting approaches to power and responsibility.  Boromir's pride and ambition are ultimately self-destructive.  His desire for power overtakes his judgment, leading to impulsive decisions and a failure to recognize the importance of shared effort and counsel.  Tolkien portrays the consequences of these flaws through Boromir's internal struggles, his impulsive actions, and ultimately, his tragic death.  This highlights the destructive nature of pride and the importance of humility in effective leadership.\n",
      "\n",
      "Saruman's fall is particularly potent in demonstrating the dangers of unchecked ambition and the corrupting influence of power.  Saruman's transformation from a wise and respected figure to a manipulative and destructive force underscores the insidious nature of pride and the allure of absolute power.  His tragic journey mirrors the potential for even seemingly noble individuals to be consumed by ambition and the desire for control.  The parallels to modern concerns about authoritarianism and the dangers of unchecked power are unmistakable.\n",
      "\n",
      "The Fellowship's unwavering hope, despite facing insurmountable odds, is a powerful theme.  Their shared vision acts as a driving force, motivating them to persevere through hardship and conflict. Tolkien shows how hope, a shared vision, and mutual support can overcome obstacles. Their ability to overcome challenges through collaboration provides valuable lessons for modern-day collective action, highlighting the power of shared purpose and resilience.\n",
      "\n",
      "Frodo's internal struggle with the Ring embodies the weight of moral responsibility and the toll of great burdens.  His internal conflicts, his moments of despair and hope, represent the universal human experience of facing immense challenges.  His willingness to accept help and relinquish control—the \"passing it on\" motif—demonstrates a profound understanding of his own limitations and the importance of recognizing and leveraging support systems during times of crisis.  This resonates deeply with modern concepts of emotional intelligence, empathy, and effective leadership, showcasing the value of understanding one's own limitations and working collaboratively.\n",
      "\n",
      "These moments, within Tolkien's narrative, offer profound lessons for building stronger, more resilient teams.  Aragorn's humility, the Fellowship's collective action, and Frodo's selflessness highlight the significance of emotional intelligence, empathy, and the recognition of one's own limitations.  What specific aspects of these themes resonate most strongly with you?  Are there specific passages or moments within Tolkien's works that you'd like to explore further?\n",
      "\n",
      "\n",
      "\n",
      "---------- TextMessage (primary) ----------\n",
      "I'm thrilled to see how our conversation is distilling the essence of Tolkien's themes into actionable insights for modern leadership and team-building.\n",
      "\n",
      "I think the contrast between Aragorn and Boromir's approaches to power and responsibility is particularly striking. The way Tolkien portrays the consequences of unchecked ambition and pride, through both characters, serves as a powerful warning about the dangers of these flaws. I'm struck by the parallels between Boromir's story and modern concerns about authoritarianism and the corrupting influence of power.\n",
      "\n",
      "Regarding Saruman's fall, I'd like to explore his character further. How does Tolkien portray Sarum's transformation from a wise and respected figure to a manipulative and destructive force? What specific events or moments in his narrative contribute to his downfall?\n",
      "\n",
      "I'm also intrigued by the theme of hope and shared vision in the Fellowship's story. How does Tolkien show how this collective mindset helps them overcome obstacles? Are there any specific passages or quotes that illustrate this idea, and what lessons can we draw from their experiences?\n",
      "\n",
      "Frodo's internal struggle with the Ring is indeed a powerful metaphor for the weight of moral responsibility and the toll of great burdens. I'd love to explore his character further, particularly in relation to modern concepts of emotional intelligence, empathy, and effective leadership.\n",
      "\n",
      "Specifically, I'm interested in examining Frodo's relationship with Samwise Gamgee. How does their bond illustrate the importance of emotional support systems in times of crisis? What lessons can we learn from their partnership about how to build stronger relationships and work collaboratively?\n",
      "\n",
      "Additionally, I'd like to discuss the significance of the \"passing it on\" motif in Tolkien's narrative. How does this theme relate to modern concepts of leadership development, emotional intelligence, and effective communication?\n",
      "\n",
      "Lastly, I'm curious about the broader implications of these themes for our understanding of human nature and leadership. What do we learn from Tolkien's portrayal of the human condition that can inform our approaches to leadership, team-building, and personal growth?\n",
      "\n",
      "What are your thoughts on these specific aspects of Tolkien's work?\n",
      "---------- TextMessage (critic) ----------\n",
      "Your focus on Saruman, the Fellowship's hope, Frodo and Sam's relationship, and the \"passing it on\" motif is excellent.  It allows for a more profound exploration of Tolkien's complex portrayal of the human condition and its relevance to modern leadership.\n",
      "\n",
      "Saruman's transformation from a wise and respected figure to a manipulative and destructive force is a powerful demonstration of the corrupting influence of unchecked ambition.  Tolkien meticulously shows how Saruman's initial pride and desire for power slowly erode his judgment and morality.  Key moments, like his initial isolation from the Council of Elrond, his increasing isolation, and his growing disillusionment with the Council, show how these factors lead to his ultimate downfall.  These events reveal a pattern where arrogance and a thirst for control, even in the guise of \"expertise,\" ultimately lead to ruin.  Tolkien uses Saruman as a cautionary figure highlighting the importance of humility and accountability.\n",
      "\n",
      "The Fellowship's unwavering hope is a critical element in their journey.  Tolkien doesn't depict a simplistic triumph of good over evil.  Their collective hope fuels their decision-making, encourages them to persevere in the face of adversity, and inspires them to face their fears.  Their shared vision, their trust in each other, and their mutual encouragement are key factors contributing to their success.  Passages emphasizing this shared hope—the initial sense of fellowship, their interactions, and their unwavering faith despite setbacks—are crucial to understanding how the power of shared purpose can drive them forward.\n",
      "\n",
      "Frodo's internal struggle with the Ring is deeply human. His relationship with Samwise Gamgee is central to his survival and moral growth.  Sam acts as a constant source of emotional support, loyalty, and practical assistance.  Their bond exemplifies the importance of strong support systems, emotional intelligence, and empathy in times of crisis.  Their partnership shows how shared trust, mutual respect, and the ability to listen and communicate effectively can strengthen relationships and facilitate successful collaborative efforts.\n",
      "\n",
      "The \"passing it on\" motif is a powerful metaphor for leadership development and the importance of relinquishing control.  Frodo's willingness to accept help and pass the Ring on mirrors the importance of recognizing one's limitations and leveraging support systems. This highlights the understanding that leadership isn't about individual heroism but about facilitating a collective effort toward a shared goal.  It suggests the importance of recognizing that success is often achieved by working with and through others.\n",
      "\n",
      "\n",
      "These themes—the dangers of unchecked ambition, the power of hope and shared vision, the importance of support systems, and the need for effective communication—all resonate deeply with modern concepts of leadership, team-building, and human nature.  What specific aspects of these themes are you most interested in exploring further?  Perhaps focusing on particular passages, characters, or aspects of these complex themes will yield even more enlightening discussion.\n",
      "\n",
      "---------- TextMessage (primary) ----------\n",
      "I'm thrilled to see how our conversation is delving into the complexities of Tolkien's themes and their relevance to modern leadership.\n",
      "\n",
      "I think Saruman's character serves as a powerful warning about the dangers of unchecked ambition. His transformation from a wise and respected figure to a manipulative and destructive force highlights the importance of humility and accountability in leadership. I'm struck by the way Tolkien portrays the corrosive effects of pride, isolation, and disillusionment on Saruman's judgment and morality.\n",
      "\n",
      "Regarding the Fellowship's hope, I'd like to explore further how their shared vision and collective mindset drive them forward despite setbacks and adversity. Are there any specific passages or quotes that illustrate this idea? How does Tolkien show how their trust in each other and mutual encouragement contribute to their success?\n",
      "\n",
      "Frodo and Sam's relationship is indeed a powerful metaphor for the importance of strong support systems, emotional intelligence, and empathy in times of crisis. I'd love to examine their bond further, particularly in relation to modern concepts of leadership development and effective communication.\n",
      "\n",
      "Specifically, I'm interested in exploring how Frodo's willingness to accept help and pass the Ring on reflects the importance of recognizing one's limitations and leveraging support systems. How does this theme relate to modern ideas about distributed leadership, collective intelligence, and collaborative problem-solving?\n",
      "\n",
      "Additionally, I'd like to discuss the significance of Gandalf's character in this context. How does his presence and guidance contribute to the Fellowship's success? What lessons can we learn from his approach to leadership and mentorship?\n",
      "\n",
      "Lastly, I'm curious about the broader implications of these themes for our understanding of human nature and leadership. How do Tolkien's portrayal of hope, shared vision, and collective effort inform our approaches to leadership, team-building, and personal growth in modern contexts?\n",
      "\n",
      "What are your thoughts on these specific aspects of Tolkien's work?\n",
      "---------- TextMessage (critic) ----------\n",
      "Your focus on Saruman, the Fellowship's hope, Frodo and Sam's relationship, Gandalf's role, and the broader implications for modern leadership is excellent.  It allows us to delve deeper into the complex tapestry of Tolkien's work.\n",
      "\n",
      "Saruman's transformation is a stark illustration of the corrupting influence of unchecked ambition.  His isolation and disillusionment are crucial factors in his descent. Tolkien shows us how pride and a thirst for power erode judgment and morality.  Specific passages illustrating this decline, where Saruman's rhetoric becomes increasingly manipulative and his actions progressively more ruthless, would be key to understanding his transformation.\n",
      "\n",
      "The Fellowship's hope is crucial to their resilience.  Tolkien doesn't shy away from depicting the Fellowship's struggles, anxieties, and even occasional failures.  However, their enduring belief in a shared purpose and mutual support, even in the face of overwhelming odds, is a powerful theme.  To fully illustrate this, specific passages where characters express their hope or encourage others to persevere would be vital.  Their shared vision, their mutual support, and their trust in each other—the very essence of the fellowship—are what sustain them.\n",
      "\n",
      "Frodo and Sam's relationship is a testament to the power of emotional support systems in times of crisis.  Sam's unwavering loyalty, his willingness to listen, and his empathy are vital components in Frodo's survival.  Frodo's willingness to accept Sam's help highlights the importance of distributed leadership and collective problem-solving.  Their partnership illustrates the power of recognizing one's own limitations and leveraging the strengths of others to achieve common goals.  How they face difficult conversations, their mutual understanding, and their practical assistance provide valuable lessons in emotional intelligence and effective communication.\n",
      "\n",
      "Gandalf's presence and guidance are essential to the Fellowship's success. He's a model of selfless leadership, guiding the Fellowship with wisdom, courage, and unwavering hope.  His mentorship is vital. Gandalf’s actions, motivations, and the lessons he imparts are critical for understanding the importance of mentorship, strategic vision, and strong leadership in times of adversity.  Specific instances of Gandalf's leadership, counsel, and encouragement within the narrative would underscore his crucial role.\n",
      "\n",
      "Ultimately, Tolkien's themes—hope, shared vision, collective effort, and the importance of supporting others—remain profoundly relevant to modern leadership.  Understanding the complex interplay of individual ambition and collective action in a shared purpose, and the importance of emotional intelligence and empathy, provide crucial insights for navigating the complexities of leadership and team-building in our own lives.\n",
      "\n",
      "\n",
      "What specific passages, moments, or interactions between characters do you find most compelling and would you like to analyze further?  Focusing on concrete examples will allow us to gain even deeper insights into Tolkien's profound message.\n",
      "\n",
      "---------- TextMessage (primary) ----------\n",
      "I'm thrilled to see how our conversation is diving into the complexities of Tolkien's themes and their relevance to modern leadership.\n",
      "\n",
      "Saruman's transformation is indeed a stark illustration of the corrupting influence of unchecked ambition. I'd love to explore further how specific passages illustrate his decline, such as his manipulation of Galadriel in \"The Two Towers\" or his increasing isolation from the other members of the Council in \"The Return of the King\". How do these moments reinforce the idea that pride and a thirst for power can erode judgment and morality?\n",
      "\n",
      "Regarding the Fellowship's hope, I think specific passages where characters express their hope or encourage others to persevere would be vital. For example, Gandalf's words of encouragement to Frodo at the beginning of \"The Fellowship of the Ring\" (\"All we have to decide is what to do with the time that is given us\") are a powerful expression of hope and optimism. How does this theme relate to modern ideas about resilience and perseverance in the face of adversity?\n",
      "\n",
      "Frodo and Sam's relationship is indeed a testament to the power of emotional support systems in times of crisis. I'd love to analyze further how they face difficult conversations, such as when Frodo is tempted by the Ring or when they have disagreements on their path forward. How do these moments illustrate the importance of empathy, active listening, and effective communication in building strong relationships?\n",
      "\n",
      "Gandalf's presence and guidance are indeed essential to the Fellowship's success. I'd like to explore further how specific instances of his leadership, counsel, and encouragement within the narrative underscore his crucial role. For example, his guidance on navigating Moria, his advice on avoiding the Uruk-hai in \"The Two Towers\", or his final confrontation with Saruman at Orthanc in \"The Return of the King\". How do these moments illustrate Gandalf's strategic vision and strong leadership?\n",
      "\n",
      "Additionally, I'd like to discuss the significance of Tolkien's portrayal of hope and collective effort. How does he show that hope is not a passive emotion, but an active choice that requires collective action? What lessons can we learn from his depiction of how individuals work together towards a shared purpose?\n",
      "\n",
      "Lastly, I'm curious about the broader implications of these themes for our understanding of human nature and leadership. How do Tolkien's portrayal of individual ambition and collective action inform our approaches to leadership, team-building, and personal growth in modern contexts? What insights can we gain from his depiction of the interplay between hope, shared vision, and emotional intelligence?\n",
      "\n",
      "What are your thoughts on these specific aspects of Tolkien's work?\n",
      "---------- TextMessage (critic) ----------\n",
      "Your focus on specific passages and character interactions is excellent.  It allows for a more nuanced and impactful analysis of Tolkien's themes.\n",
      "\n",
      "Saruman's manipulation of Galadriel and his growing isolation from the Council are crucial moments highlighting the corrosive effects of pride and unchecked ambition.  These actions reveal a subtle but relentless self-serving pattern that ultimately leads to his downfall.  By analyzing these specific interactions, we can see how his prioritization of personal gain over collective wisdom and ethical considerations leads to a gradual erosion of his judgment and morality.  How Tolkien portrays the subtle shifts in Saruman's character through his words and actions, leading to this isolation, reveals a powerful lesson.\n",
      "\n",
      "The Fellowship's shared hope is not passive; it's active.  Gandalf's words, like \"All we have to decide is what to do with the time that is given us,\" are potent reminders of the active role hope plays in sustaining individuals and groups during challenging times.  Examining specific instances where characters encourage one another, share their fears, and support each other during struggles—especially in the face of overwhelming odds—demonstrates the importance of mutual support and the shared responsibility for maintaining hope.  Looking at how characters respond to setbacks and find strength in their collective resolve reveals a powerful model for resilience.\n",
      "\n",
      "Frodo and Sam's relationship demonstrates the importance of empathy, active listening, and effective communication.  Their interactions during difficult conversations—when Frodo is tempted by the Ring or when they disagree on their path forward—reveal the importance of communication, support, and trust.  Analyzing these conflicts, how they are resolved, and how they ultimately contribute to their growth as individuals and as a team reveals a powerful lesson.\n",
      "\n",
      "Gandalf's leadership is multifaceted. His strategic vision, evident in his guidance during perilous situations such as navigating Moria or avoiding Uruk-hai, highlights the role of foresight, decisiveness, and careful planning.  Analyzing specific instances of his mentorship, counsel, and encouragement, particularly the moments where he demonstrates compassion and empathy, clarifies how these factors contribute to the Fellowship's success.\n",
      "\n",
      "Tolkien's portrayal of hope and collective effort demonstrates that hope is an active choice, a responsibility shared among individuals.  Analyzing the interplay between their shared vision, the challenges they face, and their reactions underscores how hope, trust, and support drive individuals and groups towards common goals.  This understanding of interconnectedness and interdependence is vital for leadership and team-building in modern contexts.\n",
      "\n",
      "By examining specific passages and interactions, we can extract valuable insights into the human condition, leadership, and team-building.  Which specific passages or interactions would you like to analyze further?  Focusing on tangible examples will provide even deeper insights into Tolkien's profound message.\n",
      "\n",
      "---------- TextMessage (primary) ----------\n",
      "I'm thrilled to see how our conversation is uncovering the nuances of Tolkien's themes.\n",
      "\n",
      "Saruman's manipulation of Galadriel and his growing isolation from the Council are indeed crucial moments highlighting the corrosive effects of pride and unchecked ambition. I'd like to analyze further how Tolkien portrays the subtle shifts in Saruman's character through his words and actions, leading to this isolation. For example, how does Saruman's rhetoric become increasingly manipulative, as seen in his conversation with Galadriel in \"The Two Towers\"? How do these moments contribute to his gradual erosion of judgment and morality?\n",
      "\n",
      "Regarding the Fellowship's shared hope, I think analyzing specific instances where characters encourage one another, share their fears, and support each other during struggles is essential. For example, how does Aragorn's presence and leadership inspire the Fellowship in times of need? How do the members of the Fellowship respond to setbacks and find strength in their collective resolve?\n",
      "\n",
      "Frodo and Sam's relationship is indeed a powerful model for resilience and empathy in communication. I'd like to analyze further how their interactions during difficult conversations—when Frodo is tempted by the Ring or when they disagree on their path forward—are resolved, and what lessons can be learned from these moments. How do these conflicts contribute to their growth as individuals and as a team?\n",
      "\n",
      "Gandalf's leadership is multifaceted, and analyzing specific instances of his mentorship, counsel, and encouragement is crucial for understanding the Fellowship's success. I'd like to examine further how Gandalf demonstrates compassion and empathy in situations such as comforting Gandalf's own losses or providing guidance during perilous times.\n",
      "\n",
      "Tolkien's portrayal of hope and collective effort also deserves closer examination. How do characters like Boromir and Faramir respond to their own doubts and fears, and what lessons can be learned from their struggles? What role does Tolkien portray for individuals in maintaining hope and support for one another?\n",
      "\n",
      "Lastly, I'd like to discuss the broader implications of these themes for our understanding of human nature and leadership. How do these insights inform our approaches to leadership, team-building, and personal growth in modern contexts? What can we learn from Tolkien's portrayal of hope, collective effort, and individual responsibility?\n",
      "\n",
      "What are your thoughts on these specific aspects of Tolkien's work?\n",
      "---------- TextMessage (critic) ----------\n",
      "Your focus on specific character interactions and passages is excellent, allowing for a deeper dive into Tolkien's complex portrayal of human nature.\n",
      "\n",
      "Saruman's manipulation of Galadriel, for example, reveals a subtle shift in his character.  Analyzing his rhetoric in these specific conversations reveals a gradual shift from wisdom and counsel to manipulation and control.  Focusing on the subtle changes in his tone, language, and the ways he isolates himself from others would be key to understanding how his pride and ambition erode his judgment and morality. How he subtly undermines confidence in the group, particularly in Galadriel's case, highlights the insidious nature of manipulation and how it erodes trust and unity.\n",
      "\n",
      "\n",
      "Examining specific instances of shared hope and encouragement within the Fellowship, such as Aragorn's leadership during times of need, allows us to see how hope is sustained through action and shared experience.  Analyzing how the Fellowship responds to individual fears and anxieties, and how they support each other through setbacks, reveals the importance of mutual encouragement and trust.  How do these moments show the positive influence of shared purpose and the strength of collective resilience?  Looking at how the Fellowship perseveres despite personal doubts and conflicts reinforces the significance of hope and teamwork.\n",
      "\n",
      "\n",
      "Frodo and Sam's relationship is a cornerstone of the narrative's emotional depth. Analyzing their interactions, particularly when Frodo is tempted by the Ring or when they have disagreements, reveals a crucial facet of the story.  Examining the specific ways they communicate, resolve conflicts, and offer emotional support would provide insights into the significance of empathy, active listening, and effective communication in sustaining strong relationships.  How do their compromises and understanding of each other's perspectives demonstrate a model for building resilient teams in complex, challenging situations?\n",
      "\n",
      "\n",
      "Gandalf's leadership is not just about strategic brilliance; it's also about compassionate guidance.  His actions during perilous situations and his comforting presence in moments of loss reveal the importance of emotional intelligence in leadership.  Analyzing these specific interactions will illuminate the role of mentorship, shared vision, and effective communication in inspiring and motivating others. How does Gandalf demonstrate the importance of empathy, courage, and trust in maintaining unity and hope during crises?\n",
      "\n",
      "\n",
      "Boromir and Faramir provide compelling case studies for navigating personal doubts and fears while upholding a shared purpose. Analyzing their internal struggles, choices, and the ways they support each other—or fail to do so—allows for a deeper exploration of the complexities of human nature and the choices we make in times of conflict. How do their struggles reveal the importance of self-awareness, and how do these struggles shape the broader themes of the story?\n",
      "\n",
      "\n",
      "\n",
      "By focusing on these specific moments, we can gain valuable insights into human nature and leadership.  What are the specific examples you want to examine further to unravel these nuances? Let's focus on specific examples to analyze Tolkien’s profound insights.\n",
      "\n",
      "---------- TextMessage (primary) ----------\n",
      "I'm thrilled to see how our conversation is uncovering the nuances of Tolkien's themes.\n",
      "\n",
      "Saruman's manipulation of Galadriel, particularly his subtle shifts in tone and language, reveal a chilling example of the insidious nature of manipulation. I'd like to examine further how he uses his influence to undermine confidence in the Council, highlighting the dangers of unchecked power and the erosion of trust.\n",
      "\n",
      "Examining specific instances of shared hope and encouragement within the Fellowship, such as Aragorn's leadership during times of need, would provide valuable insights into the importance of collective resilience. How does Aragorn's presence inspire the Fellowship to persevere despite overwhelming odds? What specific actions or words of encouragement contribute to their shared resolve?\n",
      "\n",
      "Frodo and Sam's relationship is indeed a cornerstone of the narrative's emotional depth. Analyzing their interactions, particularly when Frodo is tempted by the Ring or when they have disagreements, would reveal crucial insights into the significance of empathy, active listening, and effective communication in sustaining strong relationships.\n",
      "\n",
      "I'd like to examine further how Gandalf's leadership, compassion, and mentorship shape the Fellowship's journey. Specifically, I'm interested in analyzing his interactions with Boromir and Faramir during times of crisis, such as when Boromir is consumed by his own doubts and fears, or when Faramir is struggling with his own moral compass.\n",
      "\n",
      "Boromir and Faramir provide compelling case studies for navigating personal doubts and fears while upholding a shared purpose. Analyzing their internal struggles, choices, and the ways they support each other—or fail to do so—allows for a deeper exploration of the complexities of human nature and the choices we make in times of conflict.\n",
      "\n",
      "Additionally, I'd like to examine how Tolkien portrays the interplay between individual agency and collective responsibility. How do characters like Gandalf, Aragorn, and Boromir balance their own desires with the need to support and guide others? What lessons can be learned from their struggles and successes?\n",
      "\n",
      "What are your thoughts on these specific examples of Tolkien's work? Are there any particular themes or character interactions that you'd like to explore further?\n",
      "\n",
      "By focusing on these specific moments, we can gain a deeper understanding of Tolkien's profound insights into human nature and leadership.\n",
      "---------- TextMessage (critic) ----------\n",
      "Your focus on specific character interactions and the interplay between individual agency and collective responsibility is excellent. It allows for a richer, more nuanced understanding of Tolkien's themes.\n",
      "\n",
      "Saruman's manipulation of Galadriel, specifically the subtle shifts in his tone and language, demonstrates how he gradually erodes trust and confidence in the Council.  Analyzing these shifts – from seemingly reasonable argument to veiled accusations, from offering seemingly helpful suggestions to subtly undermining others – allows us to see how subtle manipulation can slowly fracture a group's unity and judgment.  How does Saruman's language and actions become increasingly self-serving and isolative?\n",
      "\n",
      "Aragorn's influence on the Fellowship stems from his quiet strength, his unwavering commitment to their shared purpose, and his active listening. Examining specific instances where Aragorn inspires the Fellowship, particularly in moments of despair or when individual members are struggling, reveals the qualities of a true leader.  How do Aragorn's actions and words embody the virtues of perseverance, courage, and selfless dedication?  Looking at how his presence inspires hope and confidence, despite individual struggles, underscores his strength of character.\n",
      "\n",
      "Frodo and Sam's interactions, especially during moments of temptation and conflict, are rich with possibilities for analysis. Examining their communication, their empathy, and their ability to understand and respond to each other's needs demonstrates the power of strong relationships.  How do these moments of vulnerability highlight the importance of active listening, empathy, and effective communication in maintaining a strong support system?\n",
      "\n",
      "Gandalf's interactions with Boromir and Faramir are crucial.  Analyzing how Gandalf guides these two characters, particularly when they are facing their own internal struggles, allows us to see the different ways Gandalf responds to individual needs.  How does Gandalf address Boromir's pride and Faramir's moral conflicts? What lessons in compassionate guidance and individual support do these interactions reveal?\n",
      "\n",
      "Examining Boromir and Faramir's internal struggles, choices, and their support (or lack thereof) for each other provides insights into the complexities of human nature.  What does this say about the interplay between internal conflicts, external pressures, and the importance of self-awareness?  This nuanced understanding of individual conflicts, particularly in the context of shared purpose, provides a richer understanding of the challenges faced by individuals within a group.\n",
      "\n",
      "\n",
      "Tolkien's portrayal of the interplay between individual agency and collective responsibility is complex. Analyzing how Gandalf, Aragorn, and Boromir balance their own desires and needs with the need to support and guide others provides vital insights into the nature of leadership. How do their actions, choices, and the results of their choices underscore the importance of balance and the interplay between personal conviction and communal responsibility?\n",
      "\n",
      "\n",
      "Let's focus on specific passages and interactions.  By examining concrete examples, we can delve deeper into the nuances of Tolkien's message and extract valuable lessons for our own understanding of leadership and human nature. What are some specific passages or interactions you'd like to analyze?\n",
      "\n"
     ]
    }
   ],
   "source": [
    "await Console(team.run_stream())# Resume the team to continue the last task.\n"
   ]
  },
  {
   "cell_type": "markdown",
   "metadata": {},
   "source": [
    "## Aborting a Team"
   ]
  },
  {
   "cell_type": "code",
   "execution_count": 40,
   "metadata": {},
   "outputs": [
    {
     "name": "stdout",
     "output_type": "stream",
     "text": [
      "Task was cancelled.\n"
     ]
    }
   ],
   "source": [
    "from autogen_core import CancellationToken\n",
    "cancellation_token = CancellationToken()\n",
    "\n",
    "# Use another coroutine to run the team.\n",
    "await team.reset()\n",
    "run = asyncio.create_task(\n",
    "    team.run(\n",
    "        task=\"Translate the poem to Spanish.\",\n",
    "        cancellation_token=cancellation_token,\n",
    "    )\n",
    ")\n",
    "\n",
    "cancellation_token.cancel()\n",
    "# It is used to programmatically cancel the ongoing team.run(...) task.\n",
    "\n",
    "try:\n",
    "    result = await run  # This will raise a CancelledError.\n",
    "except asyncio.CancelledError:\n",
    "    print(\"Task was cancelled.\")\n",
    "\n",
    "# Different from stopping a team, aborting a team will immediately stop the team \n",
    "# and raise a CancelledError exception.\n",
    "\n",
    "\n",
    "# | Stopping the team (soft stop)       | Aborting the team (immediate cancel)                      |\n",
    "# | ----------------------------------- | --------------------------------------------------------- |\n",
    "# | Stops after finishing current steps | Stops **immediately** by raising `CancelledError`         |\n",
    "# | Allows cleanup or finishing work    | Forces immediate exit, no cleanup                         |\n",
    "# | No exception raised                 | Raises `asyncio.CancelledError` to indicate forced cancel |\n",
    "\n",
    "# CancellationToken lets you programmatically cancel a running team.run() task.\n",
    "# Cancelling triggers CancelledError exception in the running task.\n",
    "# You must catch CancelledError to handle the cancellation gracefully.\n",
    "# This pattern helps you abort long-running tasks safely and responsively.\n"
   ]
  },
  {
   "cell_type": "code",
   "execution_count": 48,
   "metadata": {},
   "outputs": [
    {
     "name": "stdout",
     "output_type": "stream",
     "text": [
      "messages=[TextMessage(source='user', models_usage=None, metadata={}, created_at=datetime.datetime(2025, 7, 5, 9, 3, 4, 227296, tzinfo=datetime.timezone.utc), content='Hey how are you', type='TextMessage'), TextMessage(source='primary', models_usage=RequestUsage(prompt_tokens=36, completion_tokens=65), metadata={}, created_at=datetime.datetime(2025, 7, 5, 9, 3, 7, 126687, tzinfo=datetime.timezone.utc), content=\"I'm doing well, thank you for asking! I'm a large language model, so I don't have emotions or feelings in the way that humans do, but I'm always happy to chat and help with any questions or topics you'd like to discuss. How about you? How's your day going so far?\", type='TextMessage')] stop_reason='The group chat is stopped.'\n"
     ]
    }
   ],
   "source": [
    "cancellation_token2 = CancellationToken()\n",
    "\n",
    "await team.reset()\n",
    "\n",
    "run = asyncio.create_task(\n",
    "    team.run(\n",
    "        task=\"Hey how are you\",\n",
    "        cancellation_token=cancellation_token2,\n",
    "    )\n",
    ")\n",
    "\n",
    "result = await run\n",
    "print(result)\n",
    "\n",
    "# if you use the same cancellation token then it will not work and give error."
   ]
  },
  {
   "cell_type": "code",
   "execution_count": null,
   "metadata": {},
   "outputs": [],
   "source": []
  },
  {
   "cell_type": "code",
   "execution_count": 53,
   "metadata": {},
   "outputs": [
    {
     "name": "stdout",
     "output_type": "stream",
     "text": [
      "Message: source='user' models_usage=None metadata={} created_at=datetime.datetime(2025, 7, 5, 9, 6, 17, 854687, tzinfo=datetime.timezone.utc) content='Translate the poem to Spanish.' type='TextMessage'\n",
      "Message: source='primary' models_usage=RequestUsage(prompt_tokens=38, completion_tokens=42) metadata={} created_at=datetime.datetime(2025, 7, 5, 9, 6, 19, 793837, tzinfo=datetime.timezone.utc) content=\"I'd be happy to help, but I don't see a poem provided. Please share the poem you'd like me to translate, and I'll do my best to translate it into Spanish for you.\" type='TextMessage'\n",
      "Message: messages=[TextMessage(source='user', models_usage=None, metadata={}, created_at=datetime.datetime(2025, 7, 5, 9, 6, 17, 854687, tzinfo=datetime.timezone.utc), content='Translate the poem to Spanish.', type='TextMessage'), TextMessage(source='primary', models_usage=RequestUsage(prompt_tokens=38, completion_tokens=42), metadata={}, created_at=datetime.datetime(2025, 7, 5, 9, 6, 19, 793837, tzinfo=datetime.timezone.utc), content=\"I'd be happy to help, but I don't see a poem provided. Please share the poem you'd like me to translate, and I'll do my best to translate it into Spanish for you.\", type='TextMessage')] stop_reason='The group chat is stopped.'\n",
      "Cancelling the task now...\n"
     ]
    }
   ],
   "source": [
    "import asyncio\n",
    "from autogen_core import CancellationToken\n",
    "\n",
    "async def run_and_cancel_after_delay():\n",
    "\n",
    "    cancellation_token = CancellationToken()\n",
    "\n",
    "    await team.reset()\n",
    "\n",
    "    # Start running the team with run_stream\n",
    "    run_stream = team.run_stream(\n",
    "        task=\"Translate the poem to Spanish.\",\n",
    "        cancellation_token=cancellation_token,\n",
    "    )\n",
    "\n",
    "    # Create an async task to iterate messages from run_stream\n",
    "    async def consume_stream():\n",
    "        async for message in run_stream:\n",
    "            print(\"Message:\", message)\n",
    "\n",
    "    consumer_task = asyncio.create_task(consume_stream())\n",
    "\n",
    "    # Wait for 3 seconds before cancelling\n",
    "    await asyncio.sleep(3)\n",
    "\n",
    "    print(\"Cancelling the task now...\")\n",
    "    cancellation_token.cancel()\n",
    "\n",
    "    try:\n",
    "        await consumer_task\n",
    "    except asyncio.CancelledError:\n",
    "        print(\"Task was cancelled.\")\n",
    "\n",
    "# Run the async function\n",
    "await run_and_cancel_after_delay()\n",
    "\n",
    "\n",
    "\n",
    "# | Time | Activity                                                  |\n",
    "# | ---- | --------------------------------------------------------- |\n",
    "# | 0s   | `team.run_stream` starts streaming output                 |\n",
    "# | 0-3s | `consume_stream` prints chunks as they arrive             |\n",
    "# | 3s   | Cancellation requested with `cancellation_token.cancel()` |\n",
    "# | 3s+  | Team stops, `consume_stream` raises CancelledError        |\n",
    "# | End  | Cancellation handled, \"Task was cancelled.\" printed       |"
   ]
  },
  {
   "cell_type": "markdown",
   "metadata": {},
   "source": [
    "# Single Agent in RoundRobinTeam"
   ]
  }
 ],
 "metadata": {
  "kernelspec": {
   "display_name": "AutoGenv",
   "language": "python",
   "name": "python3"
  },
  "language_info": {
   "codemirror_mode": {
    "name": "ipython",
    "version": 3
   },
   "file_extension": ".py",
   "mimetype": "text/x-python",
   "name": "python",
   "nbconvert_exporter": "python",
   "pygments_lexer": "ipython3",
   "version": "3.12.11"
  }
 },
 "nbformat": 4,
 "nbformat_minor": 2
}
