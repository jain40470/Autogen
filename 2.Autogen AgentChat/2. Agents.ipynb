{
 "cells": [
  {
   "cell_type": "markdown",
   "metadata": {},
   "source": [
    "## Assistant Agent\n",
    "\n",
    "AssistantAgent is a built-in agent that uses a language model and has the ability to use tools."
   ]
  },
  {
   "cell_type": "code",
   "execution_count": 4,
   "metadata": {},
   "outputs": [],
   "source": [
    "from autogen_ext.models.ollama import OllamaChatCompletionClient\n",
    "\n",
    "ollama_model_client = OllamaChatCompletionClient(\n",
    "    model=\"llama3.2\"\n",
    ")\n"
   ]
  },
  {
   "cell_type": "code",
   "execution_count": 8,
   "metadata": {},
   "outputs": [],
   "source": [
    "from autogen_agentchat.agents import AssistantAgent\n",
    "\n",
    "async def web_search(query: str) -> str:\n",
    "    \"\"\"Find information on the web\"\"\"\n",
    "    return \"AutoGen is a programming framework for building multi-agent applications.\"\n",
    "\n",
    "async def add_numbers(a : int , b : int) -> int:\n",
    "    \"\"\"\n",
    "\n",
    "    Perform addition of int a and b\n",
    "\n",
    "    Input :\n",
    "    \n",
    "    a : int\n",
    "    b : int\n",
    "\n",
    "    Output : \n",
    "\n",
    "    a + b \n",
    "\n",
    "    \"\"\"\n",
    "    return a + b\n",
    "\n",
    "agentX = AssistantAgent(\n",
    "    name=\"assistant\",\n",
    "    model_client=ollama_model_client,\n",
    "    tools=[web_search , add_numbers],\n",
    "    system_message=\"Use tools to solve tasks\",\n",
    ")\n",
    "\n"
   ]
  },
  {
   "cell_type": "code",
   "execution_count": 11,
   "metadata": {},
   "outputs": [
    {
     "data": {
      "text/plain": [
       "TextMessage(source='User', models_usage=None, metadata={}, created_at=datetime.datetime(2025, 7, 4, 9, 47, 34, 215608, tzinfo=datetime.timezone.utc), content='Find information on AutoGen and perform addition of 3 and 5', type='TextMessage')"
      ]
     },
     "execution_count": 11,
     "metadata": {},
     "output_type": "execute_result"
    }
   ],
   "source": [
    "from autogen_agentchat.messages import TextMessage                                                                                                      \n",
    "text_message = TextMessage(content=\"Find information on AutoGen and perform addition of 3 and 5\", source=\"User\")  \n",
    "text_message"
   ]
  },
  {
   "cell_type": "code",
   "execution_count": 12,
   "metadata": {},
   "outputs": [
    {
     "name": "stdout",
     "output_type": "stream",
     "text": [
      "AutoGen is a programming framework for building multi-agent applications.\n",
      "8\n"
     ]
    }
   ],
   "source": [
    "# result = await agentX.run(task=\"Find information on AutoGen and perform addition of 3 and 5\")\n",
    "result = await agentX.run(task=text_message)\n",
    "print(result.messages[-1].content)"
   ]
  },
  {
   "cell_type": "markdown",
   "metadata": {},
   "source": [
    "## Streaming Messages"
   ]
  },
  {
   "cell_type": "markdown",
   "metadata": {},
   "source": [
    "run() : Runs the chat and returns full result at once\n",
    "\n",
    "run_stream() : Runs the chat and yields results incrementally"
   ]
  },
  {
   "cell_type": "code",
   "execution_count": 22,
   "metadata": {},
   "outputs": [
    {
     "name": "stdout",
     "output_type": "stream",
     "text": [
      "AutoGen is a programming framework for building multi-agent applications.\n",
      "8\n"
     ]
    }
   ],
   "source": [
    "async def assistant_run() -> None:\n",
    "    \n",
    "    result = await agentX.run(task=text_message)\n",
    "    print(result.messages[-1].content)\n",
    "\n",
    "await assistant_run()"
   ]
  },
  {
   "cell_type": "code",
   "execution_count": null,
   "metadata": {},
   "outputs": [
    {
     "name": "stdout",
     "output_type": "stream",
     "text": [
      "source='User' models_usage=None metadata={} created_at=datetime.datetime(2025, 7, 4, 9, 47, 34, 215608, tzinfo=datetime.timezone.utc) content='Find information on AutoGen and perform addition of 3 and 5' type='TextMessage'\n",
      "source='assistant' models_usage=RequestUsage(prompt_tokens=1045, completion_tokens=41) metadata={} created_at=datetime.datetime(2025, 7, 4, 9, 57, 29, 477751, tzinfo=datetime.timezone.utc) content=[FunctionCall(id='12', arguments='{\"query\": \"AutoGen\"}', name='web_search'), FunctionCall(id='12', arguments='{\"a\": \"3\", \"b\": \"5\"}', name='add_numbers')] type='ToolCallRequestEvent'\n",
      "source='assistant' models_usage=None metadata={} created_at=datetime.datetime(2025, 7, 4, 9, 57, 29, 480262, tzinfo=datetime.timezone.utc) content=[FunctionExecutionResult(content='AutoGen is a programming framework for building multi-agent applications.', name='web_search', call_id='12', is_error=False), FunctionExecutionResult(content='8', name='add_numbers', call_id='12', is_error=False)] type='ToolCallExecutionEvent'\n",
      "source='assistant' models_usage=None metadata={} created_at=datetime.datetime(2025, 7, 4, 9, 57, 29, 480392, tzinfo=datetime.timezone.utc) content='AutoGen is a programming framework for building multi-agent applications.\\n8' type='ToolCallSummaryMessage' tool_calls=[FunctionCall(id='12', arguments='{\"query\": \"AutoGen\"}', name='web_search'), FunctionCall(id='12', arguments='{\"a\": \"3\", \"b\": \"5\"}', name='add_numbers')] results=[FunctionExecutionResult(content='AutoGen is a programming framework for building multi-agent applications.', name='web_search', call_id='12', is_error=False), FunctionExecutionResult(content='8', name='add_numbers', call_id='12', is_error=False)]\n",
      "messages=[TextMessage(source='User', models_usage=None, metadata={}, created_at=datetime.datetime(2025, 7, 4, 9, 47, 34, 215608, tzinfo=datetime.timezone.utc), content='Find information on AutoGen and perform addition of 3 and 5', type='TextMessage'), ToolCallRequestEvent(source='assistant', models_usage=RequestUsage(prompt_tokens=1045, completion_tokens=41), metadata={}, created_at=datetime.datetime(2025, 7, 4, 9, 57, 29, 477751, tzinfo=datetime.timezone.utc), content=[FunctionCall(id='12', arguments='{\"query\": \"AutoGen\"}', name='web_search'), FunctionCall(id='12', arguments='{\"a\": \"3\", \"b\": \"5\"}', name='add_numbers')], type='ToolCallRequestEvent'), ToolCallExecutionEvent(source='assistant', models_usage=None, metadata={}, created_at=datetime.datetime(2025, 7, 4, 9, 57, 29, 480262, tzinfo=datetime.timezone.utc), content=[FunctionExecutionResult(content='AutoGen is a programming framework for building multi-agent applications.', name='web_search', call_id='12', is_error=False), FunctionExecutionResult(content='8', name='add_numbers', call_id='12', is_error=False)], type='ToolCallExecutionEvent'), ToolCallSummaryMessage(source='assistant', models_usage=None, metadata={}, created_at=datetime.datetime(2025, 7, 4, 9, 57, 29, 480392, tzinfo=datetime.timezone.utc), content='AutoGen is a programming framework for building multi-agent applications.\\n8', type='ToolCallSummaryMessage', tool_calls=[FunctionCall(id='12', arguments='{\"query\": \"AutoGen\"}', name='web_search'), FunctionCall(id='12', arguments='{\"a\": \"3\", \"b\": \"5\"}', name='add_numbers')], results=[FunctionExecutionResult(content='AutoGen is a programming framework for building multi-agent applications.', name='web_search', call_id='12', is_error=False), FunctionExecutionResult(content='8', name='add_numbers', call_id='12', is_error=False)])] stop_reason=None\n"
     ]
    }
   ],
   "source": [
    "async for chunk in agentX.run_stream(task=text_message):\n",
    "    print(chunk)\n",
    "# Use async for with run_stream(), because it’s an async generator, not a coroutine."
   ]
  },
  {
   "cell_type": "markdown",
   "metadata": {},
   "source": [
    "\n",
    "**Coroutine**  : \tRuns once and returns a single value\t\n",
    "\n",
    "*await agentX.run()*\n",
    "\n",
    "**Async Generator** : Yields multiple values over time\t\n",
    "\n",
    "*async for chunk in agentX.run_stream()*"
   ]
  },
  {
   "cell_type": "code",
   "execution_count": 20,
   "metadata": {},
   "outputs": [
    {
     "name": "stdout",
     "output_type": "stream",
     "text": [
      "---------- TextMessage (User) ----------\n",
      "Find information on AutoGen and perform addition of 3 and 5\n",
      "---------- ToolCallRequestEvent (assistant) ----------\n",
      "[FunctionCall(id='10', arguments='{\"query\": \"AutoGen\"}', name='web_search'), FunctionCall(id='10', arguments='{\"a\": \"3\", \"b\": \"5\"}', name='add_numbers')]\n",
      "[Prompt tokens: 889, Completion tokens: 41]\n",
      "---------- ToolCallExecutionEvent (assistant) ----------\n",
      "[FunctionExecutionResult(content='AutoGen is a programming framework for building multi-agent applications.', name='web_search', call_id='10', is_error=False), FunctionExecutionResult(content='8', name='add_numbers', call_id='10', is_error=False)]\n",
      "---------- ToolCallSummaryMessage (assistant) ----------\n",
      "AutoGen is a programming framework for building multi-agent applications.\n",
      "8\n",
      "---------- Summary ----------\n",
      "Number of messages: 4\n",
      "Finish reason: None\n",
      "Total prompt tokens: 889\n",
      "Total completion tokens: 41\n",
      "Duration: 3.14 seconds\n"
     ]
    }
   ],
   "source": [
    "from autogen_agentchat.ui import Console\n",
    "\n",
    "async def assistant_run_stream(output_stats) -> None:\n",
    "\n",
    "    await Console(\n",
    "        agentX.run_stream(task=text_message),\n",
    "        output_stats=output_stats,  # True : Enable stats printing.\n",
    "    )\n",
    "\n",
    "await assistant_run_stream(True)\n",
    "\n",
    "# Note :  Using Console to print all messages as they appear.\n",
    "# Note :  Use asyncio.run(assistant_run_stream()) when running in a script."
   ]
  },
  {
   "cell_type": "code",
   "execution_count": 17,
   "metadata": {},
   "outputs": [
    {
     "name": "stdout",
     "output_type": "stream",
     "text": [
      "---------- TextMessage (User) ----------\n",
      "Find information on AutoGen and perform addition of 3 and 5\n",
      "---------- ToolCallRequestEvent (assistant) ----------\n",
      "[FunctionCall(id='7', arguments='{\"query\": \"AutoGen\"}', name='web_search'), FunctionCall(id='7', arguments='{\"a\": \"3\", \"b\": \"5\"}', name='add_numbers')]\n",
      "---------- ToolCallExecutionEvent (assistant) ----------\n",
      "[FunctionExecutionResult(content='AutoGen is a programming framework for building multi-agent applications.', name='web_search', call_id='7', is_error=False), FunctionExecutionResult(content='8', name='add_numbers', call_id='7', is_error=False)]\n",
      "---------- ToolCallSummaryMessage (assistant) ----------\n",
      "AutoGen is a programming framework for building multi-agent applications.\n",
      "8\n"
     ]
    }
   ],
   "source": [
    "await assistant_run_stream(False)"
   ]
  },
  {
   "cell_type": "code",
   "execution_count": 19,
   "metadata": {},
   "outputs": [
    {
     "name": "stdout",
     "output_type": "stream",
     "text": [
      "source='User' models_usage=None metadata={} created_at=datetime.datetime(2025, 7, 4, 9, 47, 34, 215608, tzinfo=datetime.timezone.utc) content='Find information on AutoGen and perform addition of 3 and 5' type='TextMessage'\n",
      "source='assistant' models_usage=RequestUsage(prompt_tokens=811, completion_tokens=41) metadata={} created_at=datetime.datetime(2025, 7, 4, 9, 52, 52, 724088, tzinfo=datetime.timezone.utc) content=[FunctionCall(id='9', arguments='{\"query\": \"AutoGen\"}', name='web_search'), FunctionCall(id='9', arguments='{\"a\": \"3\", \"b\": \"5\"}', name='add_numbers')] type='ToolCallRequestEvent'\n",
      "source='assistant' models_usage=None metadata={} created_at=datetime.datetime(2025, 7, 4, 9, 52, 52, 727292, tzinfo=datetime.timezone.utc) content=[FunctionExecutionResult(content='AutoGen is a programming framework for building multi-agent applications.', name='web_search', call_id='9', is_error=False), FunctionExecutionResult(content='8', name='add_numbers', call_id='9', is_error=False)] type='ToolCallExecutionEvent'\n",
      "source='assistant' models_usage=None metadata={} created_at=datetime.datetime(2025, 7, 4, 9, 52, 52, 727483, tzinfo=datetime.timezone.utc) content='AutoGen is a programming framework for building multi-agent applications.\\n8' type='ToolCallSummaryMessage' tool_calls=[FunctionCall(id='9', arguments='{\"query\": \"AutoGen\"}', name='web_search'), FunctionCall(id='9', arguments='{\"a\": \"3\", \"b\": \"5\"}', name='add_numbers')] results=[FunctionExecutionResult(content='AutoGen is a programming framework for building multi-agent applications.', name='web_search', call_id='9', is_error=False), FunctionExecutionResult(content='8', name='add_numbers', call_id='9', is_error=False)]\n",
      "messages=[TextMessage(source='User', models_usage=None, metadata={}, created_at=datetime.datetime(2025, 7, 4, 9, 47, 34, 215608, tzinfo=datetime.timezone.utc), content='Find information on AutoGen and perform addition of 3 and 5', type='TextMessage'), ToolCallRequestEvent(source='assistant', models_usage=RequestUsage(prompt_tokens=811, completion_tokens=41), metadata={}, created_at=datetime.datetime(2025, 7, 4, 9, 52, 52, 724088, tzinfo=datetime.timezone.utc), content=[FunctionCall(id='9', arguments='{\"query\": \"AutoGen\"}', name='web_search'), FunctionCall(id='9', arguments='{\"a\": \"3\", \"b\": \"5\"}', name='add_numbers')], type='ToolCallRequestEvent'), ToolCallExecutionEvent(source='assistant', models_usage=None, metadata={}, created_at=datetime.datetime(2025, 7, 4, 9, 52, 52, 727292, tzinfo=datetime.timezone.utc), content=[FunctionExecutionResult(content='AutoGen is a programming framework for building multi-agent applications.', name='web_search', call_id='9', is_error=False), FunctionExecutionResult(content='8', name='add_numbers', call_id='9', is_error=False)], type='ToolCallExecutionEvent'), ToolCallSummaryMessage(source='assistant', models_usage=None, metadata={}, created_at=datetime.datetime(2025, 7, 4, 9, 52, 52, 727483, tzinfo=datetime.timezone.utc), content='AutoGen is a programming framework for building multi-agent applications.\\n8', type='ToolCallSummaryMessage', tool_calls=[FunctionCall(id='9', arguments='{\"query\": \"AutoGen\"}', name='web_search'), FunctionCall(id='9', arguments='{\"a\": \"3\", \"b\": \"5\"}', name='add_numbers')], results=[FunctionExecutionResult(content='AutoGen is a programming framework for building multi-agent applications.', name='web_search', call_id='9', is_error=False), FunctionExecutionResult(content='8', name='add_numbers', call_id='9', is_error=False)])] stop_reason=None\n"
     ]
    }
   ],
   "source": [
    "async def assistant_run_stream() -> None:\n",
    "    async for message in agentX.run_stream(task=text_message):\n",
    "        print(message)\n",
    "        \n",
    "await assistant_run_stream()\n"
   ]
  },
  {
   "cell_type": "markdown",
   "metadata": {},
   "source": [
    "## Structured Output"
   ]
  },
  {
   "cell_type": "code",
   "execution_count": 29,
   "metadata": {},
   "outputs": [
    {
     "name": "stdout",
     "output_type": "stream",
     "text": [
      "---------- TextMessage (user) ----------\n",
      "I am happy.\n",
      "---------- StructuredMessage[AgentResponse] (assistant) ----------\n",
      "{\"thoughts\":\"That's wonderful to hear! What's making you happy today?\",\"response\":\"happy\"}\n"
     ]
    }
   ],
   "source": [
    "from typing import Literal\n",
    "from pydantic import BaseModel\n",
    "\n",
    "\n",
    "class AgentResponse(BaseModel):\n",
    "    thoughts: str\n",
    "    response: Literal[\"happy\", \"sad\", \"neutral\"]\n",
    "\n",
    "\n",
    "agentY = AssistantAgent(\n",
    "    \"assistant\" , \n",
    "    model_client=ollama_model_client, \n",
    "    description=\"Categorize the input as happy, sad, or neutral following the JSON format.\",\n",
    "    system_message=\"Solve the task\",\n",
    "    output_content_type=AgentResponse,\n",
    ")\n",
    "\n",
    "text_message = TextMessage(content=\"I am happy.\" , source=\"user\")\n",
    "\n",
    "result = await Console(agentY.run_stream(task=text_message))\n"
   ]
  },
  {
   "cell_type": "code",
   "execution_count": 32,
   "metadata": {},
   "outputs": [
    {
     "data": {
      "text/plain": [
       "[TextMessage(source='user', models_usage=None, metadata={}, created_at=datetime.datetime(2025, 7, 4, 10, 7, 30, 30755, tzinfo=datetime.timezone.utc), content='I am happy.', type='TextMessage'),\n",
       " StructuredMessage[AgentResponse](source='assistant', models_usage=RequestUsage(prompt_tokens=33, completion_tokens=34), metadata={}, created_at=datetime.datetime(2025, 7, 4, 10, 7, 31, 912790, tzinfo=datetime.timezone.utc), content=AgentResponse(thoughts=\"That's wonderful to hear! What's making you happy today?\", response='happy'), format_string=None, type='StructuredMessage[AgentResponse]')]"
      ]
     },
     "execution_count": 32,
     "metadata": {},
     "output_type": "execute_result"
    }
   ],
   "source": [
    "result.messages"
   ]
  },
  {
   "cell_type": "code",
   "execution_count": 36,
   "metadata": {},
   "outputs": [
    {
     "name": "stdout",
     "output_type": "stream",
     "text": [
      "source='assistant' models_usage=RequestUsage(prompt_tokens=33, completion_tokens=34) metadata={} created_at=datetime.datetime(2025, 7, 4, 10, 7, 31, 912790, tzinfo=datetime.timezone.utc) content=AgentResponse(thoughts=\"That's wonderful to hear! What's making you happy today?\", response='happy') format_string=None type='StructuredMessage[AgentResponse]'\n",
      "<class 'autogen_agentchat.messages.StructuredMessage[AgentResponse]'>\n"
     ]
    }
   ],
   "source": [
    "print(result.messages[-1])\n",
    "print(type(result.messages[-1]))"
   ]
  },
  {
   "cell_type": "code",
   "execution_count": 38,
   "metadata": {},
   "outputs": [
    {
     "name": "stdout",
     "output_type": "stream",
     "text": [
      "Thought:  That's wonderful to hear! What's making you happy today?\n",
      "Response:  happy\n"
     ]
    }
   ],
   "source": [
    "from autogen_agentchat.messages import StructuredMessage\n",
    "\n",
    "assert isinstance(result.messages[-1], StructuredMessage)\n",
    "assert isinstance(result.messages[-1].content, AgentResponse)\n",
    "\n",
    "print(\"Thought: \", result.messages[-1].content.thoughts)\n",
    "print(\"Response: \", result.messages[-1].content.response)\n"
   ]
  },
  {
   "cell_type": "code",
   "execution_count": null,
   "metadata": {},
   "outputs": [],
   "source": []
  },
  {
   "cell_type": "code",
   "execution_count": null,
   "metadata": {},
   "outputs": [],
   "source": []
  },
  {
   "cell_type": "markdown",
   "metadata": {},
   "source": []
  }
 ],
 "metadata": {
  "kernelspec": {
   "display_name": "AutoGenv",
   "language": "python",
   "name": "python3"
  },
  "language_info": {
   "codemirror_mode": {
    "name": "ipython",
    "version": 3
   },
   "file_extension": ".py",
   "mimetype": "text/x-python",
   "name": "python",
   "nbconvert_exporter": "python",
   "pygments_lexer": "ipython3",
   "version": "3.12.11"
  }
 },
 "nbformat": 4,
 "nbformat_minor": 2
}
