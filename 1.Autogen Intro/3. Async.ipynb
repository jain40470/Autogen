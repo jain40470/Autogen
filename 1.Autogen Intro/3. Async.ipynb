{
 "cells": [
  {
   "cell_type": "markdown",
   "metadata": {},
   "source": [
    "## Synchronous "
   ]
  },
  {
   "cell_type": "code",
   "execution_count": 2,
   "metadata": {},
   "outputs": [
    {
     "name": "stdout",
     "output_type": "stream",
     "text": [
      "Welcome to the breakfast maker!\n",
      "Starting the coffee brewing process...\n",
      "Coffee is ready!\n",
      "Starting to toast the bread...\n",
      "Bread is toasted!\n",
      "Total time taken for breakfast preparation: 5.01 seconds\n",
      "Breakfast is ready! Enjoy your meal!\n"
     ]
    }
   ],
   "source": [
    "import time\n",
    "\n",
    "def brew_coffee():\n",
    "    print(\"Starting the coffee brewing process...\")\n",
    "    time.sleep(2)  \n",
    "    print(\"Coffee is ready!\")\n",
    "\n",
    "def toast_bread():\n",
    "    print(\"Starting to toast the bread...\")\n",
    "    time.sleep(3) \n",
    "    print(\"Bread is toasted!\")\n",
    "\n",
    "def main():\n",
    "    print(\"Welcome to the breakfast maker!\")\n",
    "    \n",
    "    start = time.time()\n",
    "\n",
    "    brew_coffee()\n",
    "\n",
    "    toast_bread()\n",
    "\n",
    "    end = time.time()\n",
    "    total_time = end - start\n",
    "    print(f\"Total time taken for breakfast preparation: {total_time:.2f} seconds\")\n",
    "    \n",
    "    print(\"Breakfast is ready! Enjoy your meal!\")\n",
    "\n",
    "main()"
   ]
  },
  {
   "cell_type": "markdown",
   "metadata": {},
   "source": [
    "## Asynchronous "
   ]
  },
  {
   "cell_type": "code",
   "execution_count": 3,
   "metadata": {},
   "outputs": [
    {
     "name": "stdout",
     "output_type": "stream",
     "text": [
      "Welcome to the asynchronous breakfast maker!\n",
      "Starting the coffee brewing process asynchronously...\n",
      "Starting to toast the bread asynchronously...\n",
      "Coffee is ready!\n",
      "Bread is toasted!\n",
      "Total time taken for breakfast preparation: 3.00 seconds\n",
      "Breakfast is ready! Enjoy your meal!\n"
     ]
    }
   ],
   "source": [
    "import asyncio\n",
    "import time\n",
    "\n",
    "async def async_brew_coffee():\n",
    "    print(\"Starting the coffee brewing process asynchronously...\")\n",
    "    await asyncio.sleep(2) \n",
    "    print(\"Coffee is ready!\")\n",
    "\n",
    "async def async_toast_bread():\n",
    "    print(\"Starting to toast the bread asynchronously...\")\n",
    "    await asyncio.sleep(3)\n",
    "    print(\"Bread is toasted!\")\n",
    "\n",
    "async def main_async():\n",
    "    print(\"Welcome to the asynchronous breakfast maker!\")\n",
    "    \n",
    "    start = time.time()\n",
    "    \n",
    "    # Run both tasks concurrently\n",
    "    await asyncio.gather(\n",
    "        async_brew_coffee(),\n",
    "        async_toast_bread()\n",
    "    )\n",
    "\n",
    "    end = time.time()\n",
    "    total_time = end - start\n",
    "    print(f\"Total time taken for breakfast preparation: {total_time:.2f} seconds\")\n",
    "    \n",
    "    print(\"Breakfast is ready! Enjoy your meal!\")\n",
    "\n",
    "await main_async()"
   ]
  },
  {
   "cell_type": "code",
   "execution_count": null,
   "metadata": {},
   "outputs": [],
   "source": [
    "#"
   ]
  }
 ],
 "metadata": {
  "kernelspec": {
   "display_name": "AutoGen",
   "language": "python",
   "name": "python3"
  },
  "language_info": {
   "codemirror_mode": {
    "name": "ipython",
    "version": 3
   },
   "file_extension": ".py",
   "mimetype": "text/x-python",
   "name": "python",
   "nbconvert_exporter": "python",
   "pygments_lexer": "ipython3",
   "version": "3.9.6"
  }
 },
 "nbformat": 4,
 "nbformat_minor": 2
}
