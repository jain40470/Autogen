{
 "cells": [
  {
   "cell_type": "markdown",
   "metadata": {},
   "source": [
    "# Setting LLM for our Agents"
   ]
  },
  {
   "cell_type": "markdown",
   "metadata": {},
   "source": [
    "## Ollama"
   ]
  },
  {
   "cell_type": "code",
   "execution_count": 1,
   "metadata": {},
   "outputs": [],
   "source": [
    "from autogen_core.models import UserMessage\n",
    "from autogen_ext.models.ollama import OllamaChatCompletionClient\n",
    "import asyncio\n",
    "\n",
    "ollama_model_client = OllamaChatCompletionClient(model='llama3.2')"
   ]
  },
  {
   "cell_type": "code",
   "execution_count": 2,
   "metadata": {},
   "outputs": [],
   "source": [
    "async def OllamaCheck():\n",
    "    response = await ollama_model_client.create([UserMessage(content='Hello, how are you?',source='user')])\n",
    "    print(response)\n",
    "    print(response.content)\n",
    "    await ollama_model_client.close()"
   ]
  },
  {
   "cell_type": "code",
   "execution_count": 3,
   "metadata": {},
   "outputs": [
    {
     "name": "stdout",
     "output_type": "stream",
     "text": [
      "finish_reason='stop' content=\"I'm just a language model, so I don't have feelings or emotions like humans do. However, I'm functioning properly and ready to help with any questions or tasks you may have! How can I assist you today?\" usage=RequestUsage(prompt_tokens=31, completion_tokens=46) cached=False logprobs=None thought=None\n",
      "I'm just a language model, so I don't have feelings or emotions like humans do. However, I'm functioning properly and ready to help with any questions or tasks you may have! How can I assist you today?\n"
     ]
    }
   ],
   "source": [
    "await OllamaCheck()"
   ]
  },
  {
   "cell_type": "markdown",
   "metadata": {},
   "source": [
    "## Gemini"
   ]
  },
  {
   "cell_type": "code",
   "execution_count": 4,
   "metadata": {},
   "outputs": [],
   "source": [
    "from autogen_core.models import UserMessage\n",
    "from autogen_ext.models.openai import OpenAIChatCompletionClient\n"
   ]
  },
  {
   "cell_type": "code",
   "execution_count": 5,
   "metadata": {},
   "outputs": [],
   "source": [
    "from dotenv import load_dotenv\n",
    "import os\n",
    "load_dotenv()\n",
    "\n",
    "api_key = os.getenv('GOOGLE_API_KEY')"
   ]
  },
  {
   "cell_type": "code",
   "execution_count": 6,
   "metadata": {},
   "outputs": [],
   "source": [
    "\n",
    "gemini_model_client = OpenAIChatCompletionClient(\n",
    "    model=\"gemini-1.5-flash-8b\",\n",
    "    api_key=api_key \n",
    ")"
   ]
  },
  {
   "cell_type": "code",
   "execution_count": 7,
   "metadata": {},
   "outputs": [],
   "source": [
    "async def GeminiCheck():\n",
    "    response = await gemini_model_client.create([UserMessage(content='Hello, how are you?',source='user')])\n",
    "    print(response)\n",
    "    print(response.content)\n",
    "    await ollama_model_client.close()"
   ]
  },
  {
   "cell_type": "code",
   "execution_count": 8,
   "metadata": {},
   "outputs": [
    {
     "name": "stdout",
     "output_type": "stream",
     "text": [
      "finish_reason='stop' content=\"I'm doing well, thank you for asking.  How are you?\\n\" usage=RequestUsage(prompt_tokens=6, completion_tokens=17) cached=False logprobs=None thought=None\n",
      "I'm doing well, thank you for asking.  How are you?\n",
      "\n"
     ]
    }
   ],
   "source": [
    "\n",
    "await GeminiCheck()"
   ]
  },
  {
   "cell_type": "markdown",
   "metadata": {},
   "source": [
    "## AutoGen Single Agent"
   ]
  },
  {
   "cell_type": "code",
   "execution_count": 18,
   "metadata": {},
   "outputs": [],
   "source": [
    "from autogen_agentchat.agents import AssistantAgent\n",
    "\n",
    "agentX = AssistantAgent(\n",
    "    name = 'AgentX',\n",
    "    model_client=ollama_model_client,\n",
    "    description=\"You are an Agent\",\n",
    "    system_message='You are a helpful assistant, give reply in JSON'\n",
    ") \n",
    "# prompt here is more better to describe the task , remember that json thing.\n",
    "\n"
   ]
  },
  {
   "cell_type": "code",
   "execution_count": 19,
   "metadata": {},
   "outputs": [
    {
     "name": "stdout",
     "output_type": "stream",
     "text": [
      "messages=[TextMessage(source='user', models_usage=None, metadata={}, created_at=datetime.datetime(2025, 6, 30, 6, 31, 51, 76634, tzinfo=datetime.timezone.utc), content='Tell me a joke', type='TextMessage'), TextMessage(source='AgentX', models_usage=RequestUsage(prompt_tokens=39, completion_tokens=27), metadata={}, created_at=datetime.datetime(2025, 6, 30, 6, 31, 52, 474910, tzinfo=datetime.timezone.utc), content='{\"joke\": \"Why don\\'t eggs tell jokes?\", \"punchline\": \"They\\'d crack each other up!\"}', type='TextMessage')] stop_reason=None\n"
     ]
    }
   ],
   "source": [
    "result = await agentX.run(task='Tell me a joke')\n",
    "print(result)"
   ]
  },
  {
   "cell_type": "code",
   "execution_count": 20,
   "metadata": {},
   "outputs": [
    {
     "name": "stdout",
     "output_type": "stream",
     "text": [
      "[TextMessage(source='user', models_usage=None, metadata={}, created_at=datetime.datetime(2025, 6, 30, 6, 31, 51, 76634, tzinfo=datetime.timezone.utc), content='Tell me a joke', type='TextMessage'), TextMessage(source='AgentX', models_usage=RequestUsage(prompt_tokens=39, completion_tokens=27), metadata={}, created_at=datetime.datetime(2025, 6, 30, 6, 31, 52, 474910, tzinfo=datetime.timezone.utc), content='{\"joke\": \"Why don\\'t eggs tell jokes?\", \"punchline\": \"They\\'d crack each other up!\"}', type='TextMessage')]\n"
     ]
    }
   ],
   "source": [
    "print(result.messages)"
   ]
  },
  {
   "cell_type": "code",
   "execution_count": 21,
   "metadata": {},
   "outputs": [
    {
     "name": "stdout",
     "output_type": "stream",
     "text": [
      "source='AgentX' models_usage=RequestUsage(prompt_tokens=39, completion_tokens=27) metadata={} created_at=datetime.datetime(2025, 6, 30, 6, 31, 52, 474910, tzinfo=datetime.timezone.utc) content='{\"joke\": \"Why don\\'t eggs tell jokes?\", \"punchline\": \"They\\'d crack each other up!\"}' type='TextMessage'\n"
     ]
    }
   ],
   "source": [
    "print(result.messages[-1])"
   ]
  },
  {
   "cell_type": "code",
   "execution_count": 22,
   "metadata": {},
   "outputs": [
    {
     "name": "stdout",
     "output_type": "stream",
     "text": [
      "{\"joke\": \"Why don't eggs tell jokes?\", \"punchline\": \"They'd crack each other up!\"}\n"
     ]
    }
   ],
   "source": [
    "print(result.messages[-1].content)"
   ]
  },
  {
   "cell_type": "code",
   "execution_count": null,
   "metadata": {},
   "outputs": [],
   "source": []
  }
 ],
 "metadata": {
  "kernelspec": {
   "display_name": "AutoGenv",
   "language": "python",
   "name": "python3"
  },
  "language_info": {
   "codemirror_mode": {
    "name": "ipython",
    "version": 3
   },
   "file_extension": ".py",
   "mimetype": "text/x-python",
   "name": "python",
   "nbconvert_exporter": "python",
   "pygments_lexer": "ipython3",
   "version": "3.12.11"
  }
 },
 "nbformat": 4,
 "nbformat_minor": 2
}
